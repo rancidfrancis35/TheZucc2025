{
  "nbformat": 4,
  "nbformat_minor": 0,
  "metadata": {
    "colab": {
      "provenance": [],
      "toc_visible": true
    },
    "kernelspec": {
      "name": "python3",
      "display_name": "Python 3"
    },
    "language_info": {
      "name": "python"
    }
  },
  "cells": [
    {
      "cell_type": "code",
      "execution_count": 1,
      "metadata": {
        "colab": {
          "base_uri": "https://localhost:8080/"
        },
        "id": "GklLQldb1FGU",
        "outputId": "fc30ca2c-7dd8-4b09-f941-3328d506cd02"
      },
      "outputs": [
        {
          "output_type": "stream",
          "name": "stdout",
          "text": [
            "Drive already mounted at /content/drive; to attempt to forcibly remount, call drive.mount(\"/content/drive\", force_remount=True).\n"
          ]
        }
      ],
      "source": [
        "from google.colab import drive\n",
        "drive.mount('/content/drive')"
      ]
    },
    {
      "cell_type": "markdown",
      "source": [
        "# Set-up"
      ],
      "metadata": {
        "id": "IxFVJR611Zip"
      }
    },
    {
      "cell_type": "code",
      "source": [
        "import os\n",
        "import matplotlib.pyplot as plt\n",
        "import pandas as pd\n",
        "import numpy as np\n",
        "import random\n",
        "import string\n",
        "import time\n",
        "import scipy.stats as st\n",
        "\n",
        "os.chdir('/content/drive/MyDrive/Micron')"
      ],
      "metadata": {
        "id": "65z9KzL-1aSq"
      },
      "execution_count": 8,
      "outputs": []
    },
    {
      "cell_type": "code",
      "source": [
        "df = pd.read_excel(\"/content/drive/MyDrive/Micron/4) Micron NUS-ISE BACC 2025 Q2 RPT Data.xlsx\")"
      ],
      "metadata": {
        "id": "DcMz8tFW1wiw"
      },
      "execution_count": 4,
      "outputs": []
    },
    {
      "cell_type": "code",
      "source": [
        "df.head()"
      ],
      "metadata": {
        "colab": {
          "base_uri": "https://localhost:8080/",
          "height": 206
        },
        "id": "eCiG8Jmz18Hs",
        "outputId": "b10a6ddc-7ccf-41d8-e478-1cef63fe10c3"
      },
      "execution_count": 5,
      "outputs": [
        {
          "output_type": "execute_result",
          "data": {
            "text/plain": [
              "        H_1       I_2       J_3\n",
              "0  1.521124  6.258362  1.560118\n",
              "1  2.293860  9.407662  1.642984\n",
              "2  1.359261  8.579790  3.070715\n",
              "3  1.306989  3.643087  2.540902\n",
              "4  2.720436  4.243985  1.868649"
            ],
            "text/html": [
              "\n",
              "  <div id=\"df-19fb96d7-e483-4fec-99c5-5c03d3db1623\" class=\"colab-df-container\">\n",
              "    <div>\n",
              "<style scoped>\n",
              "    .dataframe tbody tr th:only-of-type {\n",
              "        vertical-align: middle;\n",
              "    }\n",
              "\n",
              "    .dataframe tbody tr th {\n",
              "        vertical-align: top;\n",
              "    }\n",
              "\n",
              "    .dataframe thead th {\n",
              "        text-align: right;\n",
              "    }\n",
              "</style>\n",
              "<table border=\"1\" class=\"dataframe\">\n",
              "  <thead>\n",
              "    <tr style=\"text-align: right;\">\n",
              "      <th></th>\n",
              "      <th>H_1</th>\n",
              "      <th>I_2</th>\n",
              "      <th>J_3</th>\n",
              "    </tr>\n",
              "  </thead>\n",
              "  <tbody>\n",
              "    <tr>\n",
              "      <th>0</th>\n",
              "      <td>1.521124</td>\n",
              "      <td>6.258362</td>\n",
              "      <td>1.560118</td>\n",
              "    </tr>\n",
              "    <tr>\n",
              "      <th>1</th>\n",
              "      <td>2.293860</td>\n",
              "      <td>9.407662</td>\n",
              "      <td>1.642984</td>\n",
              "    </tr>\n",
              "    <tr>\n",
              "      <th>2</th>\n",
              "      <td>1.359261</td>\n",
              "      <td>8.579790</td>\n",
              "      <td>3.070715</td>\n",
              "    </tr>\n",
              "    <tr>\n",
              "      <th>3</th>\n",
              "      <td>1.306989</td>\n",
              "      <td>3.643087</td>\n",
              "      <td>2.540902</td>\n",
              "    </tr>\n",
              "    <tr>\n",
              "      <th>4</th>\n",
              "      <td>2.720436</td>\n",
              "      <td>4.243985</td>\n",
              "      <td>1.868649</td>\n",
              "    </tr>\n",
              "  </tbody>\n",
              "</table>\n",
              "</div>\n",
              "    <div class=\"colab-df-buttons\">\n",
              "\n",
              "  <div class=\"colab-df-container\">\n",
              "    <button class=\"colab-df-convert\" onclick=\"convertToInteractive('df-19fb96d7-e483-4fec-99c5-5c03d3db1623')\"\n",
              "            title=\"Convert this dataframe to an interactive table.\"\n",
              "            style=\"display:none;\">\n",
              "\n",
              "  <svg xmlns=\"http://www.w3.org/2000/svg\" height=\"24px\" viewBox=\"0 -960 960 960\">\n",
              "    <path d=\"M120-120v-720h720v720H120Zm60-500h600v-160H180v160Zm220 220h160v-160H400v160Zm0 220h160v-160H400v160ZM180-400h160v-160H180v160Zm440 0h160v-160H620v160ZM180-180h160v-160H180v160Zm440 0h160v-160H620v160Z\"/>\n",
              "  </svg>\n",
              "    </button>\n",
              "\n",
              "  <style>\n",
              "    .colab-df-container {\n",
              "      display:flex;\n",
              "      gap: 12px;\n",
              "    }\n",
              "\n",
              "    .colab-df-convert {\n",
              "      background-color: #E8F0FE;\n",
              "      border: none;\n",
              "      border-radius: 50%;\n",
              "      cursor: pointer;\n",
              "      display: none;\n",
              "      fill: #1967D2;\n",
              "      height: 32px;\n",
              "      padding: 0 0 0 0;\n",
              "      width: 32px;\n",
              "    }\n",
              "\n",
              "    .colab-df-convert:hover {\n",
              "      background-color: #E2EBFA;\n",
              "      box-shadow: 0px 1px 2px rgba(60, 64, 67, 0.3), 0px 1px 3px 1px rgba(60, 64, 67, 0.15);\n",
              "      fill: #174EA6;\n",
              "    }\n",
              "\n",
              "    .colab-df-buttons div {\n",
              "      margin-bottom: 4px;\n",
              "    }\n",
              "\n",
              "    [theme=dark] .colab-df-convert {\n",
              "      background-color: #3B4455;\n",
              "      fill: #D2E3FC;\n",
              "    }\n",
              "\n",
              "    [theme=dark] .colab-df-convert:hover {\n",
              "      background-color: #434B5C;\n",
              "      box-shadow: 0px 1px 3px 1px rgba(0, 0, 0, 0.15);\n",
              "      filter: drop-shadow(0px 1px 2px rgba(0, 0, 0, 0.3));\n",
              "      fill: #FFFFFF;\n",
              "    }\n",
              "  </style>\n",
              "\n",
              "    <script>\n",
              "      const buttonEl =\n",
              "        document.querySelector('#df-19fb96d7-e483-4fec-99c5-5c03d3db1623 button.colab-df-convert');\n",
              "      buttonEl.style.display =\n",
              "        google.colab.kernel.accessAllowed ? 'block' : 'none';\n",
              "\n",
              "      async function convertToInteractive(key) {\n",
              "        const element = document.querySelector('#df-19fb96d7-e483-4fec-99c5-5c03d3db1623');\n",
              "        const dataTable =\n",
              "          await google.colab.kernel.invokeFunction('convertToInteractive',\n",
              "                                                    [key], {});\n",
              "        if (!dataTable) return;\n",
              "\n",
              "        const docLinkHtml = 'Like what you see? Visit the ' +\n",
              "          '<a target=\"_blank\" href=https://colab.research.google.com/notebooks/data_table.ipynb>data table notebook</a>'\n",
              "          + ' to learn more about interactive tables.';\n",
              "        element.innerHTML = '';\n",
              "        dataTable['output_type'] = 'display_data';\n",
              "        await google.colab.output.renderOutput(dataTable, element);\n",
              "        const docLink = document.createElement('div');\n",
              "        docLink.innerHTML = docLinkHtml;\n",
              "        element.appendChild(docLink);\n",
              "      }\n",
              "    </script>\n",
              "  </div>\n",
              "\n",
              "\n",
              "<div id=\"df-d6461fb4-cf29-4805-b0bc-cbc5eb841c63\">\n",
              "  <button class=\"colab-df-quickchart\" onclick=\"quickchart('df-d6461fb4-cf29-4805-b0bc-cbc5eb841c63')\"\n",
              "            title=\"Suggest charts\"\n",
              "            style=\"display:none;\">\n",
              "\n",
              "<svg xmlns=\"http://www.w3.org/2000/svg\" height=\"24px\"viewBox=\"0 0 24 24\"\n",
              "     width=\"24px\">\n",
              "    <g>\n",
              "        <path d=\"M19 3H5c-1.1 0-2 .9-2 2v14c0 1.1.9 2 2 2h14c1.1 0 2-.9 2-2V5c0-1.1-.9-2-2-2zM9 17H7v-7h2v7zm4 0h-2V7h2v10zm4 0h-2v-4h2v4z\"/>\n",
              "    </g>\n",
              "</svg>\n",
              "  </button>\n",
              "\n",
              "<style>\n",
              "  .colab-df-quickchart {\n",
              "      --bg-color: #E8F0FE;\n",
              "      --fill-color: #1967D2;\n",
              "      --hover-bg-color: #E2EBFA;\n",
              "      --hover-fill-color: #174EA6;\n",
              "      --disabled-fill-color: #AAA;\n",
              "      --disabled-bg-color: #DDD;\n",
              "  }\n",
              "\n",
              "  [theme=dark] .colab-df-quickchart {\n",
              "      --bg-color: #3B4455;\n",
              "      --fill-color: #D2E3FC;\n",
              "      --hover-bg-color: #434B5C;\n",
              "      --hover-fill-color: #FFFFFF;\n",
              "      --disabled-bg-color: #3B4455;\n",
              "      --disabled-fill-color: #666;\n",
              "  }\n",
              "\n",
              "  .colab-df-quickchart {\n",
              "    background-color: var(--bg-color);\n",
              "    border: none;\n",
              "    border-radius: 50%;\n",
              "    cursor: pointer;\n",
              "    display: none;\n",
              "    fill: var(--fill-color);\n",
              "    height: 32px;\n",
              "    padding: 0;\n",
              "    width: 32px;\n",
              "  }\n",
              "\n",
              "  .colab-df-quickchart:hover {\n",
              "    background-color: var(--hover-bg-color);\n",
              "    box-shadow: 0 1px 2px rgba(60, 64, 67, 0.3), 0 1px 3px 1px rgba(60, 64, 67, 0.15);\n",
              "    fill: var(--button-hover-fill-color);\n",
              "  }\n",
              "\n",
              "  .colab-df-quickchart-complete:disabled,\n",
              "  .colab-df-quickchart-complete:disabled:hover {\n",
              "    background-color: var(--disabled-bg-color);\n",
              "    fill: var(--disabled-fill-color);\n",
              "    box-shadow: none;\n",
              "  }\n",
              "\n",
              "  .colab-df-spinner {\n",
              "    border: 2px solid var(--fill-color);\n",
              "    border-color: transparent;\n",
              "    border-bottom-color: var(--fill-color);\n",
              "    animation:\n",
              "      spin 1s steps(1) infinite;\n",
              "  }\n",
              "\n",
              "  @keyframes spin {\n",
              "    0% {\n",
              "      border-color: transparent;\n",
              "      border-bottom-color: var(--fill-color);\n",
              "      border-left-color: var(--fill-color);\n",
              "    }\n",
              "    20% {\n",
              "      border-color: transparent;\n",
              "      border-left-color: var(--fill-color);\n",
              "      border-top-color: var(--fill-color);\n",
              "    }\n",
              "    30% {\n",
              "      border-color: transparent;\n",
              "      border-left-color: var(--fill-color);\n",
              "      border-top-color: var(--fill-color);\n",
              "      border-right-color: var(--fill-color);\n",
              "    }\n",
              "    40% {\n",
              "      border-color: transparent;\n",
              "      border-right-color: var(--fill-color);\n",
              "      border-top-color: var(--fill-color);\n",
              "    }\n",
              "    60% {\n",
              "      border-color: transparent;\n",
              "      border-right-color: var(--fill-color);\n",
              "    }\n",
              "    80% {\n",
              "      border-color: transparent;\n",
              "      border-right-color: var(--fill-color);\n",
              "      border-bottom-color: var(--fill-color);\n",
              "    }\n",
              "    90% {\n",
              "      border-color: transparent;\n",
              "      border-bottom-color: var(--fill-color);\n",
              "    }\n",
              "  }\n",
              "</style>\n",
              "\n",
              "  <script>\n",
              "    async function quickchart(key) {\n",
              "      const quickchartButtonEl =\n",
              "        document.querySelector('#' + key + ' button');\n",
              "      quickchartButtonEl.disabled = true;  // To prevent multiple clicks.\n",
              "      quickchartButtonEl.classList.add('colab-df-spinner');\n",
              "      try {\n",
              "        const charts = await google.colab.kernel.invokeFunction(\n",
              "            'suggestCharts', [key], {});\n",
              "      } catch (error) {\n",
              "        console.error('Error during call to suggestCharts:', error);\n",
              "      }\n",
              "      quickchartButtonEl.classList.remove('colab-df-spinner');\n",
              "      quickchartButtonEl.classList.add('colab-df-quickchart-complete');\n",
              "    }\n",
              "    (() => {\n",
              "      let quickchartButtonEl =\n",
              "        document.querySelector('#df-d6461fb4-cf29-4805-b0bc-cbc5eb841c63 button');\n",
              "      quickchartButtonEl.style.display =\n",
              "        google.colab.kernel.accessAllowed ? 'block' : 'none';\n",
              "    })();\n",
              "  </script>\n",
              "</div>\n",
              "\n",
              "    </div>\n",
              "  </div>\n"
            ],
            "application/vnd.google.colaboratory.intrinsic+json": {
              "type": "dataframe",
              "variable_name": "df",
              "summary": "{\n  \"name\": \"df\",\n  \"rows\": 1000,\n  \"fields\": [\n    {\n      \"column\": \"H_1\",\n      \"properties\": {\n        \"dtype\": \"number\",\n        \"std\": 0.5007105720083862,\n        \"min\": 0.6462666235999797,\n        \"max\": 3.589119155586056,\n        \"num_unique_values\": 1000,\n        \"samples\": [\n          2.512488380377278,\n          1.6917428515196482,\n          2.7709742433785163\n        ],\n        \"semantic_type\": \"\",\n        \"description\": \"\"\n      }\n    },\n    {\n      \"column\": \"I_2\",\n      \"properties\": {\n        \"dtype\": \"number\",\n        \"std\": 3.292673621732794,\n        \"min\": 0.4013480051984204,\n        \"max\": 14.224480006004653,\n        \"num_unique_values\": 1000,\n        \"samples\": [\n          2.9591174502593516,\n          11.8772232866946,\n          4.56194423359549\n        ],\n        \"semantic_type\": \"\",\n        \"description\": \"\"\n      }\n    },\n    {\n      \"column\": \"J_3\",\n      \"properties\": {\n        \"dtype\": \"number\",\n        \"std\": 2.054904700237201,\n        \"min\": 0.4720529780320375,\n        \"max\": 7.531036794539472,\n        \"num_unique_values\": 1000,\n        \"samples\": [\n          2.195514282809083,\n          1.2149280495613266,\n          2.528071929102733\n        ],\n        \"semantic_type\": \"\",\n        \"description\": \"\"\n      }\n    }\n  ]\n}"
            }
          },
          "metadata": {},
          "execution_count": 5
        }
      ]
    },
    {
      "cell_type": "markdown",
      "source": [
        "## Part 1 and 2"
      ],
      "metadata": {
        "id": "T2Qa56OYHfNA"
      }
    },
    {
      "cell_type": "code",
      "source": [
        "H_1 = df['H_1']\n",
        "I_2 = df[\"I_2\"]\n",
        "J_3 = df[\"J_3\"]\n",
        "\n",
        "List_x = [x for x in range(len(H_1))]\n",
        "print(len(List_x))"
      ],
      "metadata": {
        "colab": {
          "base_uri": "https://localhost:8080/"
        },
        "id": "O6JtD1dz2YF6",
        "outputId": "29aaba90-9618-4a1c-b92a-d375ec0ebb24"
      },
      "execution_count": 6,
      "outputs": [
        {
          "output_type": "stream",
          "name": "stdout",
          "text": [
            "1000\n"
          ]
        }
      ]
    },
    {
      "cell_type": "code",
      "source": [
        "# Create a 3x1 subplot layout\n",
        "fig, axes = plt.subplots(1, 3, figsize=(9, 3))  # 3 rows, 1 column\n",
        "\n",
        "# Histogram\n",
        "axes[0].hist(H_1, bins=30, color='green', edgecolor='black', alpha=0.7)\n",
        "axes[0].set_title(\"H_1\")\n",
        "axes[0].set_xlabel(\"Value\")\n",
        "axes[0].set_ylabel(\"Frequency\")\n",
        "\n",
        "# Histogram\n",
        "axes[1].hist(I_2, bins=30, color='green', edgecolor='black', alpha=0.7)\n",
        "axes[1].set_title(\"I_2\")\n",
        "axes[1].set_xlabel(\"Value\")\n",
        "axes[1].set_ylabel(\"Frequency\")\n",
        "\n",
        "# Line Plot (Example)\n",
        "axes[2].hist(J_3, bins=30, color='green', edgecolor='black', alpha=0.7)\n",
        "axes[2].set_title(\"J_3\")\n",
        "axes[2].set_xlabel(\"Value\")\n",
        "axes[2].set_ylabel(\"Frequency\")\n",
        "\n",
        "# Adjust layout\n",
        "plt.tight_layout()\n",
        "plt.show()"
      ],
      "metadata": {
        "colab": {
          "base_uri": "https://localhost:8080/",
          "height": 307
        },
        "id": "wxg-tUuo18bV",
        "outputId": "29fdf5a1-4f44-49d0-994d-322316177500"
      },
      "execution_count": 9,
      "outputs": [
        {
          "output_type": "display_data",
          "data": {
            "text/plain": [
              "<Figure size 900x300 with 3 Axes>"
            ],
            "image/png": "[encoded data removed]"
          },
          "metadata": {}
        }
      ]
    },
    {
      "cell_type": "code",
      "source": [
        "# Sample data (replace with your actual list of values)\n",
        "data = H_1\n",
        "\n",
        "# List of distributions to test\n",
        "distributions = [\n",
        "    st.norm, st.expon, st.gamma, st.beta, st.weibull_min,\n",
        "    st.lognorm, st.chi2, st.f, st.t, st.poisson\n",
        "]\n",
        "\n",
        "# Fit each distribution and compute the Kolmogorov-Smirnov (KS) test\n",
        "best_distribution = None\n",
        "best_p_value = 0\n",
        "best_params = None\n",
        "\n",
        "for distribution in distributions:\n",
        "    try:\n",
        "        # Fit distribution to data\n",
        "        params = distribution.fit(data)\n",
        "\n",
        "        # Generate CDF for fitted distribution\n",
        "        cdf_fitted = distribution.cdf(np.sort(data), *params)\n",
        "\n",
        "        # Perform KS test\n",
        "        ks_stat, p_value = st.kstest(data, distribution.name, args=params)\n",
        "\n",
        "        # Keep track of the best distribution (highest p-value)\n",
        "        if p_value > best_p_value:\n",
        "            best_distribution = distribution\n",
        "            best_p_value = p_value\n",
        "            best_params = params\n",
        "\n",
        "    except Exception as e:\n",
        "        print(f\"Skipping {distribution.name} due to error: {e}\")\n",
        "\n",
        "# Print the best-fitting distribution\n",
        "if best_distribution:\n",
        "    print(f\"Best-fitting distribution: {best_distribution.name}\")\n",
        "    print(f\"Best parameters: {best_params}\")\n",
        "    print(f\"Best p-value: {best_p_value}\")\n",
        "else:\n",
        "    print(\"No suitable distribution found.\")\n",
        "\n",
        "# Plot histogram and best-fitting PDF\n",
        "plt.hist(data, bins=30, density=True, alpha=0.6, color='g', label='Data Histogram')\n",
        "\n",
        "# Generate PDF for best-fitting distribution\n",
        "if best_distribution:\n",
        "    x = np.linspace(min(data), max(data), 1000)\n",
        "    pdf_fitted = best_distribution.pdf(x, *best_params)\n",
        "    plt.plot(x, pdf_fitted, label=f'Best Fit: {best_distribution.name}', color='red')\n",
        "\n",
        "plt.legend()\n",
        "plt.title(\"Histogram and Best-Fitting Distribution\")\n",
        "plt.show()\n"
      ],
      "metadata": {
        "colab": {
          "base_uri": "https://localhost:8080/",
          "height": 521
        },
        "id": "Fuo0cQhC3Rda",
        "outputId": "d4df8e63-2920-4ecc-8c37-a5f7869dd2af"
      },
      "execution_count": 10,
      "outputs": [
        {
          "output_type": "stream",
          "name": "stdout",
          "text": [
            "Skipping poisson due to error: 'poisson_gen' object has no attribute 'fit'\n",
            "Best-fitting distribution: gamma\n",
            "Best parameters: (2270.547595983384, -21.748335517317912, 0.010517075594713002)\n",
            "Best p-value: 0.7055416837367547\n"
          ]
        },
        {
          "output_type": "display_data",
          "data": {
            "text/plain": [
              "<Figure size 640x480 with 1 Axes>"
            ],
            "image/png": "[encoded data removed]"
          },
          "metadata": {}
        }
      ]
    },
    {
      "cell_type": "code",
      "source": [
        "# Compute population mean and variance\n",
        "H_1 = np.array(H_1)\n",
        "sample_mean = H_1.mean()\n",
        "sample_stdev = H_1.std(ddof=1)\n",
        "\n",
        "# Print results\n",
        "print(f\"Estimated Sample Mean: {sample_mean}\")\n",
        "print(f\"Estimated Sample SD: {sample_stdev}\")\n",
        "\n",
        "\n",
        "shape, loc, scale = st.gamma.fit(H_1, floc=0)  # Force loc=0\n",
        "rate = 1 / scale  # Convert scale to rate (β = 1/scale)\n",
        "print(shape, loc , scale, rate)\n",
        "\n",
        "population_mean = shape * scale  # α / β\n",
        "population_variance = shape * (scale ** 2)  # α / β²\n",
        "\n",
        "print(f\"Estimated Population Mean: {population_mean}\")\n",
        "print(f\"Estimated Population Stdev: {np.sqrt(population_variance)}\")"
      ],
      "metadata": {
        "colab": {
          "base_uri": "https://localhost:8080/"
        },
        "id": "79vVovnJ6Nr1",
        "outputId": "da066f6a-b20f-437d-8b95-cfccc10123c1"
      },
      "execution_count": 13,
      "outputs": [
        {
          "output_type": "stream",
          "name": "stdout",
          "text": [
            "Estimated Sample Mean: 2.1316261381378303\n",
            "Estimated Sample SD: 0.5007105720083864\n",
            "16.59919676333599 0 0.12841742697129346 7.787105096129522\n",
            "Estimated Population Mean: 2.1316261381378303\n",
            "Estimated Population Stdev: 0.5231997170530726\n"
          ]
        }
      ]
    },
    {
      "cell_type": "code",
      "source": [
        "# Sample data (replace with your actual list of values)\n",
        "data = I_2\n",
        "\n",
        "# List of distributions to test\n",
        "distributions = [\n",
        "    st.norm, st.expon, st.gamma, st.beta, st.weibull_min,\n",
        "    st.lognorm, st.chi2, st.f, st.t, st.poisson\n",
        "]\n",
        "\n",
        "# Fit each distribution and compute the Kolmogorov-Smirnov (KS) test\n",
        "best_distribution = None\n",
        "best_p_value = 0\n",
        "best_params = None\n",
        "\n",
        "for distribution in distributions:\n",
        "    try:\n",
        "        # Fit distribution to data\n",
        "        params = distribution.fit(data)\n",
        "\n",
        "        # Generate CDF for fitted distribution\n",
        "        cdf_fitted = distribution.cdf(np.sort(data), *params)\n",
        "\n",
        "        # Perform KS test\n",
        "        ks_stat, p_value = st.kstest(data, distribution.name, args=params)\n",
        "\n",
        "        # Keep track of the best distribution (highest p-value)\n",
        "        if p_value > best_p_value:\n",
        "            best_distribution = distribution\n",
        "            best_p_value = p_value\n",
        "            best_params = params\n",
        "\n",
        "    except Exception as e:\n",
        "        print(f\"Skipping {distribution.name} due to error: {e}\")\n",
        "\n",
        "# Print the best-fitting distribution\n",
        "if best_distribution:\n",
        "    print(f\"Best-fitting distribution: {best_distribution.name}\")\n",
        "    print(f\"Best parameters: {best_params}\")\n",
        "    print(f\"Best p-value: {best_p_value}\")\n",
        "else:\n",
        "    print(\"No suitable distribution found.\")\n",
        "\n",
        "# Plot histogram and best-fitting PDF\n",
        "plt.hist(data, bins=30, density=True, alpha=0.6, color='g', label='Data Histogram')\n",
        "\n",
        "# Generate PDF for best-fitting distribution\n",
        "if best_distribution:\n",
        "    x = np.linspace(min(data), max(data), 1000)\n",
        "    pdf_fitted = best_distribution.pdf(x, *best_params)\n",
        "    plt.plot(x, pdf_fitted, label=f'Best Fit: {best_distribution.name}', color='red')\n",
        "\n",
        "plt.legend()\n",
        "plt.title(\"Histogram and Best-Fitting Distribution\")\n",
        "plt.show()\n"
      ],
      "metadata": {
        "colab": {
          "base_uri": "https://localhost:8080/",
          "height": 521
        },
        "id": "iMjN4uav5AbX",
        "outputId": "be6a8e43-0d26-4700-9313-4d53567f7426"
      },
      "execution_count": 14,
      "outputs": [
        {
          "output_type": "stream",
          "name": "stdout",
          "text": [
            "Skipping poisson due to error: 'poisson_gen' object has no attribute 'fit'\n",
            "Best-fitting distribution: beta\n",
            "Best parameters: (1.31169474839079, 1.977322312036761, 0.3870701491083236, 14.023153649707545)\n",
            "Best p-value: 0.16251659992759815\n"
          ]
        },
        {
          "output_type": "display_data",
          "data": {
            "text/plain": [
              "<Figure size 640x480 with 1 Axes>"
            ],
            "image/png": "[encoded data removed]"
          },
          "metadata": {}
        }
      ]
    },
    {
      "cell_type": "code",
      "source": [
        "# Compute population mean and variance\n",
        "I_2 = np.array(I_2)\n",
        "sample_mean = I_2.mean()\n",
        "sample_stdev = I_2.std(ddof=1)\n",
        "\n",
        "# Print results\n",
        "print(f\"Estimated Sample Mean: {sample_mean}\")\n",
        "print(f\"Estimated Sample SD: {sample_stdev}\")\n",
        "\n",
        "# Given estimated Beta parameters\n",
        "alpha = 1.3117\n",
        "beta = 1.9773\n",
        "loc = 0.3871\n",
        "scale = 14.0232\n",
        "\n",
        "# Compute estimated population mean and variance\n",
        "population_mean = loc + (alpha / (alpha + beta)) * scale\n",
        "population_variance = (alpha * beta) / ((alpha + beta) ** 2 * (alpha + beta + 1)) * (scale ** 2)\n",
        "\n",
        "# Print results\n",
        "print(f\"Estimated Population Mean: {population_mean}\")\n",
        "print(f\"Estimated Population Variance: {np.sqrt(population_variance)}\")"
      ],
      "metadata": {
        "colab": {
          "base_uri": "https://localhost:8080/"
        },
        "id": "Ux_spsZ-8Z-6",
        "outputId": "bc3eb55e-56c9-4bea-bcbf-5c327d085908"
      },
      "execution_count": 15,
      "outputs": [
        {
          "output_type": "stream",
          "name": "stdout",
          "text": [
            "Estimated Sample Mean: 5.99186175928513\n",
            "Estimated Sample SD: 3.292673621732793\n",
            "Estimated Population Mean: 5.979751699604743\n",
            "Estimated Population Variance: 3.315574370539171\n"
          ]
        }
      ]
    },
    {
      "cell_type": "code",
      "source": [
        "# Sample data (replace with your actual list of values)\n",
        "data = J_3\n",
        "\n",
        "# List of distributions to test\n",
        "distributions = [\n",
        "    st.norm, st.expon, st.gamma, st.beta, st.weibull_min,\n",
        "    st.lognorm, st.chi2, st.f, st.t, st.poisson\n",
        "]\n",
        "\n",
        "# Fit each distribution and compute the Kolmogorov-Smirnov (KS) test\n",
        "best_distribution = None\n",
        "best_p_value = 0\n",
        "best_params = None\n",
        "\n",
        "for distribution in distributions:\n",
        "    try:\n",
        "        # Fit distribution to data\n",
        "        params = distribution.fit(data)\n",
        "\n",
        "        # Generate CDF for fitted distribution\n",
        "        cdf_fitted = distribution.cdf(np.sort(data), *params)\n",
        "\n",
        "        # Perform KS test\n",
        "        ks_stat, p_value = st.kstest(data, distribution.name, args=params)\n",
        "\n",
        "        # Keep track of the best distribution (highest p-value)\n",
        "        if p_value > best_p_value:\n",
        "            best_distribution = distribution\n",
        "            best_p_value = p_value\n",
        "            best_params = params\n",
        "\n",
        "    except Exception as e:\n",
        "        print(f\"Skipping {distribution.name} due to error: {e}\")\n",
        "\n",
        "# Print the best-fitting distribution\n",
        "if best_distribution:\n",
        "    print(f\"Best-fitting distribution: {best_distribution.name}\")\n",
        "    print(f\"Best parameters: {best_params}\")\n",
        "    print(f\"Best p-value: {best_p_value}\")\n",
        "else:\n",
        "    print(\"No suitable distribution found.\")\n",
        "\n",
        "# Plot histogram and best-fitting PDF\n",
        "plt.hist(data, bins=30, density=True, alpha=0.6, color='g', label='Data Histogram')\n",
        "\n",
        "# Generate PDF for best-fitting distribution\n",
        "if best_distribution:\n",
        "    x = np.linspace(min(data), max(data), 1000)\n",
        "    pdf_fitted = best_distribution.pdf(x, *best_params)\n",
        "    plt.plot(x, pdf_fitted, label=f'Best Fit: {best_distribution.name}', color='red')\n",
        "\n",
        "plt.legend()\n",
        "plt.title(\"Histogram and Best-Fitting Distribution\")\n",
        "plt.show()\n"
      ],
      "metadata": {
        "colab": {
          "base_uri": "https://localhost:8080/",
          "height": 576
        },
        "id": "982U5-Oz5Fx3",
        "outputId": "0f4d6831-c479-4a79-848b-aab71f62f1b5"
      },
      "execution_count": 16,
      "outputs": [
        {
          "output_type": "stream",
          "name": "stderr",
          "text": [
            "/usr/local/lib/python3.11/dist-packages/scipy/stats/_continuous_distns.py:716: RuntimeWarning: invalid value encountered in sqrt\n",
            "  sk = 2*(b-a)*np.sqrt(a + b + 1) / (a + b + 2) / np.sqrt(a*b)\n"
          ]
        },
        {
          "output_type": "stream",
          "name": "stdout",
          "text": [
            "Skipping poisson due to error: 'poisson_gen' object has no attribute 'fit'\n",
            "Best-fitting distribution: f\n",
            "Best parameters: (12480.28852878723, 6.408721700394278, 0.11745448224608612, 2.014799743725817)\n",
            "Best p-value: 1.9381412243542317e-16\n"
          ]
        },
        {
          "output_type": "display_data",
          "data": {
            "text/plain": [
              "<Figure size 640x480 with 1 Axes>"
            ],
            "image/png": "[encoded data removed]"
          },
          "metadata": {}
        }
      ]
    },
    {
      "cell_type": "code",
      "source": [
        "from sklearn.mixture import GaussianMixture\n",
        "\n",
        "data = J_3\n",
        "\n",
        "# Fit Gaussian Mixture Model (GMM) with 2 components\n",
        "gmm = GaussianMixture(n_components=2, random_state=42)\n",
        "gmm.fit(data.to_numpy().reshape(-1, 1))  # ✅ Convert Series to NumPy array first\n",
        "\n",
        "# Generate fitted distribution\n",
        "x = np.linspace(min(data), max(data), 1000)\n",
        "pdf = np.exp(gmm.score_samples(x.reshape(-1, 1)))\n",
        "\n",
        "# Plot histogram and fitted GMM\n",
        "plt.hist(data, bins=30, density=True, alpha=0.6, color='g', label=\"Data Histogram\")\n",
        "plt.plot(x, pdf, label=\"Gaussian Mixture Model\", color='red', linewidth=2)\n",
        "plt.legend()\n",
        "plt.title(\"Bimodal Data - Gaussian Mixture Model Fit\")\n",
        "plt.show()\n",
        "\n",
        "# Print the mean and variance of each component\n",
        "for i in range(2):\n",
        "    print(f\"Component {i+1}: Mean = {gmm.means_[i][0]}, Variance = {gmm.covariances_[i][0][0]}\")\n"
      ],
      "metadata": {
        "colab": {
          "base_uri": "https://localhost:8080/",
          "height": 487
        },
        "id": "4BoXH88B5IrB",
        "outputId": "40295d3a-569f-44ca-e024-6d14e46043cb"
      },
      "execution_count": 18,
      "outputs": [
        {
          "output_type": "display_data",
          "data": {
            "text/plain": [
              "<Figure size 640x480 with 1 Axes>"
            ],
            "image/png": "[encoded data removed]"
          },
          "metadata": {}
        },
        {
          "output_type": "stream",
          "name": "stdout",
          "text": [
            "Component 1: Mean = 7.0004779267347645, Variance = 0.0422900529083596\n",
            "Component 2: Mean = 2.0366605388995764, Variance = 0.3526679312847644\n"
          ]
        }
      ]
    },
    {
      "cell_type": "code",
      "source": [
        "# Compute population mean and variance\n",
        "J_3 = np.array(J_3)\n",
        "sample_mean = J_3.mean()\n",
        "sample_stdev = J_3.std(ddof=1)\n",
        "\n",
        "# Print results\n",
        "print(f\"Estimated Sample Mean: {sample_mean}\")\n",
        "print(f\"Estimated Sample SD: {sample_stdev}\")"
      ],
      "metadata": {
        "colab": {
          "base_uri": "https://localhost:8080/"
        },
        "id": "9Xz9E75O83qh",
        "outputId": "bb2abbc8-9123-4d1b-e1bd-26262e504dd8"
      },
      "execution_count": 33,
      "outputs": [
        {
          "output_type": "stream",
          "name": "stdout",
          "text": [
            "Estimated Sample Mean: 3.0244601990777378\n",
            "Estimated Sample SD: 2.0549047002372025\n"
          ]
        }
      ]
    },
    {
      "cell_type": "code",
      "source": [
        "proportion_under_4_5 = np.mean(J_3 < 4.5)\n",
        "\n",
        "# Print result\n",
        "print(f\"Proportion of values under 4: {proportion_under_4_5:.4f}\")"
      ],
      "metadata": {
        "colab": {
          "base_uri": "https://localhost:8080/"
        },
        "id": "TKeUdj5-9JaD",
        "outputId": "aa4f319a-0ca8-4182-bb78-910d61befce5"
      },
      "execution_count": 39,
      "outputs": [
        {
          "output_type": "stream",
          "name": "stdout",
          "text": [
            "Proportion of values under 4: 0.8010\n"
          ]
        }
      ]
    },
    {
      "cell_type": "code",
      "source": [
        "# Given GMM parameters\n",
        "mu1, var1 = 7.0005, 0.04229  # Mean & variance of component 1\n",
        "mu2, var2 = 2.0367, 0.35267  # Mean & variance of component 2\n",
        "\n",
        "w1, w2 = 0.2, 0.8  # Default equal weighting (unless GMM provides different values)\n",
        "\n",
        "# Compute estimated population mean\n",
        "population_mean = w1 * mu1 + w2 * mu2\n",
        "\n",
        "# Compute estimated population variance (law of total variance)\n",
        "population_variance = (\n",
        "    w1 * (var1 + (mu1 - population_mean) ** 2) +\n",
        "    w2 * (var2 + (mu2 - population_mean) ** 2)\n",
        ")\n",
        "\n",
        "# Print results\n",
        "print(f\"Estimated Population Mean: {population_mean}\")\n",
        "print(f\"Estimated Population Variance: {np.sqrt(population_variance)}\")\n"
      ],
      "metadata": {
        "colab": {
          "base_uri": "https://localhost:8080/"
        },
        "id": "56EX_0hb54F_",
        "outputId": "0789bd47-bed8-4ac5-ef6c-f320b048eb5c"
      },
      "execution_count": 37,
      "outputs": [
        {
          "output_type": "stream",
          "name": "stdout",
          "text": [
            "Estimated Population Mean: 3.0294600000000003\n",
            "Estimated Population Variance: 2.0573973049462273\n"
          ]
        }
      ]
    },
    {
      "cell_type": "markdown",
      "source": [
        "## Part 3"
      ],
      "metadata": {
        "id": "uPx1j7Qd_k-z"
      }
    },
    {
      "cell_type": "code",
      "source": [
        "rpt_node_1 = 2.1\n",
        "rpt_node_2 = 6.0\n",
        "rpt_node_3 = 2.1\n",
        "\n",
        "\n",
        "r1,r2,r3 = 12000*rpt_node_1/(3*7*24*60*0.85) , 5000*rpt_node_2/(4*7*24*60*0.75) , 1000*rpt_node_3/(7*24*60*0.60)\n",
        "r1,r2,r3"
      ],
      "metadata": {
        "colab": {
          "base_uri": "https://localhost:8080/"
        },
        "id": "6YvBC7_bAJxB",
        "outputId": "fccd1817-e580-4d1d-f71d-ae02b9773cf6"
      },
      "execution_count": 20,
      "outputs": [
        {
          "output_type": "execute_result",
          "data": {
            "text/plain": [
              "(0.9803921568627451, 0.9920634920634921, 0.3472222222222222)"
            ]
          },
          "metadata": {},
          "execution_count": 20
        }
      ]
    },
    {
      "cell_type": "markdown",
      "source": [
        "## Part 4"
      ],
      "metadata": {
        "id": "WhlJgda8ATdx"
      }
    },
    {
      "cell_type": "markdown",
      "source": [
        "### H_1 gamma distribution"
      ],
      "metadata": {
        "id": "1GfjoCVoBa5i"
      }
    },
    {
      "cell_type": "code",
      "source": [
        "# Given Gamma parameters\n",
        "shape = 16.5992  # α (shape parameter)\n",
        "loc = 0  # Location (fixed)\n",
        "scale = 0.1284  # θ (scale parameter)\n",
        "rate = 1 / scale  # β = 1/θ\n",
        "\n",
        "mean_of_means = []\n",
        "counter = 0\n",
        "\n",
        "for i in range(100):\n",
        "  # Monte Carlo Simulation: Generate 1,000,000 samples\n",
        "  counter += 1\n",
        "  num_samples = 1_000_000\n",
        "  samples = np.random.gamma(shape, scale, size=num_samples)\n",
        "  mean = samples.mean()\n",
        "  mean_of_means.append(mean)\n",
        "  print(counter)\n",
        "\n",
        "mean_of_means = np.array(mean_of_means)\n",
        "mean_of_means = mean_of_means.mean()\n",
        "mean_of_means"
      ],
      "metadata": {
        "colab": {
          "base_uri": "https://localhost:8080/"
        },
        "collapsed": true,
        "id": "bFkHVrqiCmQJ",
        "outputId": "59820f72-edf7-4bde-c90e-7f0e30370434"
      },
      "execution_count": 61,
      "outputs": [
        {
          "output_type": "stream",
          "name": "stdout",
          "text": [
            "1\n",
            "2\n",
            "3\n",
            "4\n",
            "5\n",
            "6\n",
            "7\n",
            "8\n",
            "9\n",
            "10\n",
            "11\n",
            "12\n",
            "13\n",
            "14\n",
            "15\n",
            "16\n",
            "17\n",
            "18\n",
            "19\n",
            "20\n",
            "21\n",
            "22\n",
            "23\n",
            "24\n",
            "25\n",
            "26\n",
            "27\n",
            "28\n",
            "29\n",
            "30\n",
            "31\n",
            "32\n",
            "33\n",
            "34\n",
            "35\n",
            "36\n",
            "37\n",
            "38\n",
            "39\n",
            "40\n",
            "41\n",
            "42\n",
            "43\n",
            "44\n",
            "45\n",
            "46\n",
            "47\n",
            "48\n",
            "49\n",
            "50\n",
            "51\n",
            "52\n",
            "53\n",
            "54\n",
            "55\n",
            "56\n",
            "57\n",
            "58\n",
            "59\n",
            "60\n",
            "61\n",
            "62\n",
            "63\n",
            "64\n",
            "65\n",
            "66\n",
            "67\n",
            "68\n",
            "69\n",
            "70\n",
            "71\n",
            "72\n",
            "73\n",
            "74\n",
            "75\n",
            "76\n",
            "77\n",
            "78\n",
            "79\n",
            "80\n",
            "81\n",
            "82\n",
            "83\n",
            "84\n",
            "85\n",
            "86\n",
            "87\n",
            "88\n",
            "89\n",
            "90\n",
            "91\n",
            "92\n",
            "93\n",
            "94\n",
            "95\n",
            "96\n",
            "97\n",
            "98\n",
            "99\n",
            "100\n"
          ]
        },
        {
          "output_type": "execute_result",
          "data": {
            "text/plain": [
              "2.131212887647161"
            ]
          },
          "metadata": {},
          "execution_count": 61
        }
      ]
    },
    {
      "cell_type": "markdown",
      "source": [
        "### Beta"
      ],
      "metadata": {
        "id": "CuhKWSwpDo5p"
      }
    },
    {
      "cell_type": "code",
      "source": [
        "import numpy as np\n",
        "import matplotlib.pyplot as plt\n",
        "import scipy.stats as st\n",
        "\n",
        "# Given Beta distribution parameters\n",
        "alpha = 1.3117  # Shape parameter a\n",
        "beta = 1.9773  # Shape parameter b\n",
        "loc = 0.3871  # Location parameter\n",
        "scale = 14.0232  # Scale parameter\n",
        "\n",
        "\n",
        "mean_of_means = []\n",
        "counter = 0\n",
        "\n",
        "for i in range(100):\n",
        "  # Monte Carlo Simulation: Generate 1,000,000 samples\n",
        "  counter += 1\n",
        "  num_samples = 1_000_000\n",
        "  samples = np.random.beta(alpha, beta, size=num_samples) * scale + loc  # Transform to match (loc, scale)\n",
        "  mean = samples.mean()\n",
        "  mean_of_means.append(mean)\n",
        "  print(counter)\n",
        "\n",
        "mean_of_means = np.array(mean_of_means)\n",
        "mean_of_means = mean_of_means.mean()\n",
        "mean_of_means"
      ],
      "metadata": {
        "colab": {
          "base_uri": "https://localhost:8080/"
        },
        "collapsed": true,
        "id": "mnmFqBelDqAL",
        "outputId": "0bd6e608-947f-4c6a-de48-26cacad1086f"
      },
      "execution_count": 62,
      "outputs": [
        {
          "output_type": "stream",
          "name": "stdout",
          "text": [
            "1\n",
            "2\n",
            "3\n",
            "4\n",
            "5\n",
            "6\n",
            "7\n",
            "8\n",
            "9\n",
            "10\n",
            "11\n",
            "12\n",
            "13\n",
            "14\n",
            "15\n",
            "16\n",
            "17\n",
            "18\n",
            "19\n",
            "20\n",
            "21\n",
            "22\n",
            "23\n",
            "24\n",
            "25\n",
            "26\n",
            "27\n",
            "28\n",
            "29\n",
            "30\n",
            "31\n",
            "32\n",
            "33\n",
            "34\n",
            "35\n",
            "36\n",
            "37\n",
            "38\n",
            "39\n",
            "40\n",
            "41\n",
            "42\n",
            "43\n",
            "44\n",
            "45\n",
            "46\n",
            "47\n",
            "48\n",
            "49\n",
            "50\n",
            "51\n",
            "52\n",
            "53\n",
            "54\n",
            "55\n",
            "56\n",
            "57\n",
            "58\n",
            "59\n",
            "60\n",
            "61\n",
            "62\n",
            "63\n",
            "64\n",
            "65\n",
            "66\n",
            "67\n",
            "68\n",
            "69\n",
            "70\n",
            "71\n",
            "72\n",
            "73\n",
            "74\n",
            "75\n",
            "76\n",
            "77\n",
            "78\n",
            "79\n",
            "80\n",
            "81\n",
            "82\n",
            "83\n",
            "84\n",
            "85\n",
            "86\n",
            "87\n",
            "88\n",
            "89\n",
            "90\n",
            "91\n",
            "92\n",
            "93\n",
            "94\n",
            "95\n",
            "96\n",
            "97\n",
            "98\n",
            "99\n",
            "100\n"
          ]
        },
        {
          "output_type": "execute_result",
          "data": {
            "text/plain": [
              "5.979675613279482"
            ]
          },
          "metadata": {},
          "execution_count": 62
        }
      ]
    },
    {
      "cell_type": "markdown",
      "source": [
        "### Mixed gaussian"
      ],
      "metadata": {
        "id": "rRIFgdMSECpV"
      }
    },
    {
      "cell_type": "code",
      "source": [
        "import numpy as np\n",
        "import matplotlib.pyplot as plt\n",
        "import scipy.stats as st\n",
        "\n",
        "# Given GMM parameters\n",
        "means = np.array([7.0005, 2.0367])  # Component means\n",
        "variances = np.array([0.0423, 0.3527])  # Component variances\n",
        "weights = np.array([0.2, 0.8])  # Assume equal mixture weights if unknown\n",
        "\n",
        "mean_of_means = []\n",
        "counter = 0\n",
        "\n",
        "for i in range(100):\n",
        "  # Monte Carlo Simulation: Generate 1,000,000 samples\n",
        "  counter += 1\n",
        "  num_samples = 1_000_000\n",
        "  component_choices = np.random.choice([0, 1], size=num_samples, p=weights)  # Choose component\n",
        "  samples = np.random.normal(loc=means[component_choices], scale=np.sqrt(variances[component_choices]))\n",
        "  mean = samples.mean()\n",
        "  mean_of_means.append(mean)\n",
        "  print(counter)\n",
        "\n",
        "mean_of_means = np.array(mean_of_means)\n",
        "mean_of_means = mean_of_means.mean()\n",
        "mean_of_means"
      ],
      "metadata": {
        "colab": {
          "base_uri": "https://localhost:8080/"
        },
        "collapsed": true,
        "id": "H9wKicsKEpu8",
        "outputId": "21c53239-9e71-495e-bdc2-8860f988d1ed"
      },
      "execution_count": 63,
      "outputs": [
        {
          "output_type": "stream",
          "name": "stdout",
          "text": [
            "1\n",
            "2\n",
            "3\n",
            "4\n",
            "5\n",
            "6\n",
            "7\n",
            "8\n",
            "9\n",
            "10\n",
            "11\n",
            "12\n",
            "13\n",
            "14\n",
            "15\n",
            "16\n",
            "17\n",
            "18\n",
            "19\n",
            "20\n",
            "21\n",
            "22\n",
            "23\n",
            "24\n",
            "25\n",
            "26\n",
            "27\n",
            "28\n",
            "29\n",
            "30\n",
            "31\n",
            "32\n",
            "33\n",
            "34\n",
            "35\n",
            "36\n",
            "37\n",
            "38\n",
            "39\n",
            "40\n",
            "41\n",
            "42\n",
            "43\n",
            "44\n",
            "45\n",
            "46\n",
            "47\n",
            "48\n",
            "49\n",
            "50\n",
            "51\n",
            "52\n",
            "53\n",
            "54\n",
            "55\n",
            "56\n",
            "57\n",
            "58\n",
            "59\n",
            "60\n",
            "61\n",
            "62\n",
            "63\n",
            "64\n",
            "65\n",
            "66\n",
            "67\n",
            "68\n",
            "69\n",
            "70\n",
            "71\n",
            "72\n",
            "73\n",
            "74\n",
            "75\n",
            "76\n",
            "77\n",
            "78\n",
            "79\n",
            "80\n",
            "81\n",
            "82\n",
            "83\n",
            "84\n",
            "85\n",
            "86\n",
            "87\n",
            "88\n",
            "89\n",
            "90\n",
            "91\n",
            "92\n",
            "93\n",
            "94\n",
            "95\n",
            "96\n",
            "97\n",
            "98\n",
            "99\n",
            "100\n"
          ]
        },
        {
          "output_type": "execute_result",
          "data": {
            "text/plain": [
              "3.029335927676371"
            ]
          },
          "metadata": {},
          "execution_count": 63
        }
      ]
    },
    {
      "cell_type": "markdown",
      "source": [
        "### total ratio"
      ],
      "metadata": {
        "id": "AmF5n1iWKBey"
      }
    },
    {
      "cell_type": "code",
      "source": [
        "rpt_node_1 = 2.131212887647161\n",
        "rpt_node_2 = 5.979675613279482\n",
        "rpt_node_3 = 3.029335927676371\n",
        "\n",
        "r1,r2,r3 = 12000*rpt_node_1/(3*7*24*60*0.85) , 5000*rpt_node_2/(4*7*24*60*0.75) , 1000*rpt_node_3/(7*24*60*0.60)\n",
        "r1,r2,r3"
      ],
      "metadata": {
        "colab": {
          "base_uri": "https://localhost:8080/"
        },
        "id": "xNIrhyvNE4AH",
        "outputId": "607a6f8d-7b7c-461c-cea2-8506ad39e273"
      },
      "execution_count": 21,
      "outputs": [
        {
          "output_type": "execute_result",
          "data": {
            "text/plain": [
              "(0.9949639998352761, 0.9887029783861577, 0.5008822631740031)"
            ]
          },
          "metadata": {},
          "execution_count": 21
        }
      ]
    },
    {
      "cell_type": "markdown",
      "source": [
        "yes we can use monte carlo to generate mean of means and get multiple means which are random variables, different types of population can use the same methodology"
      ],
      "metadata": {
        "id": "sqejpLh9HuJi"
      }
    },
    {
      "cell_type": "markdown",
      "source": [
        "## Part 5"
      ],
      "metadata": {
        "id": "WT_HuaCyLuNQ"
      }
    },
    {
      "cell_type": "code",
      "source": [
        "import numpy as np\n",
        "import scipy.stats as st\n",
        "\n",
        "# Given parameters\n",
        "shape_gamma, scale_gamma = 16.5992, 0.1284  # Gamma parameters\n",
        "alpha_beta, beta_beta, loc_beta, scale_beta = 1.3117, 1.9773, 0.3871, 14.0232  # Beta parameters\n",
        "mu1, var1, mu2, var2, weight = 7.0005, 0.0423, 2.0367, 0.3527, 0.5  # GMM parameters\n",
        "\n",
        "# Coefficients\n",
        "c1 = 12000 / (3 * 7 * 24 * 60 * 0.85)\n",
        "c2 = 5000 / (4 * 7 * 24 * 60 * 0.75)\n",
        "c3 = 1000 / (7 * 24 * 60 * 0.60)\n",
        "\n",
        "mean_1, mean_2, mean_3 = [], [], []\n",
        "counter = 0\n",
        "\n",
        "for i in range(100):\n",
        "  # Monte Carlo Simulation: Generate 1,000,000 samples\n",
        "  counter += 1\n",
        "  num_samples = 1_000_000\n",
        "\n",
        "  X1_samples = np.random.gamma(shape_gamma, scale_gamma, num_samples)\n",
        "  X1_mean = X1_samples.mean()\n",
        "  mean_1.append(X1_mean)\n",
        "\n",
        "  X2_samples = np.random.beta(alpha_beta, beta_beta, num_samples) * scale_beta + loc_beta\n",
        "  X2_mean = X2_samples.mean()\n",
        "  mean_2.append(X2_mean)\n",
        "\n",
        "  component_choice = np.random.choice([0, 1], size=num_samples, p=[0.2, 0.8])\n",
        "  mu_array = np.array([mu1, mu2])  # Convert means to a NumPy array\n",
        "  sigma_array = np.sqrt(np.array([var1, var2]))  # Convert variances to a NumPy array\n",
        "\n",
        "  X3_samples = np.random.normal(loc=mu_array[component_choice], scale=sigma_array[component_choice])\n",
        "  X3_mean = X3_samples.mean()\n",
        "  mean_3.append(X3_mean)\n",
        "\n",
        "  print(counter)\n",
        "\n",
        "# Compute S\n",
        "r_1 = c1 * np.array(mean_1)\n",
        "r_2 = c2 *  np.array(mean_2)\n",
        "r_3 = c3 *  np.array(mean_3)\n",
        "\n",
        "# Estimate probability\n",
        "prob_r1_greater_1 = np.mean(r_1 > 1)\n",
        "prob_r2_greater_1 = np.mean(r_2 > 1)\n",
        "prob_r3_greater_1 = np.mean(r_3 > 1)\n",
        "\n",
        "print(r_1,r_2,r_3)\n",
        "print(prob_r1_greater_1,prob_r2_greater_1,prob_r3_greater_1)"
      ],
      "metadata": {
        "colab": {
          "base_uri": "https://localhost:8080/"
        },
        "id": "KdVw3h9EIlYt",
        "outputId": "9c438bf9-ec1b-4151-e2fc-01043804ea16"
      },
      "execution_count": 94,
      "outputs": [
        {
          "output_type": "stream",
          "name": "stdout",
          "text": [
            "1\n",
            "2\n",
            "3\n",
            "4\n",
            "5\n",
            "6\n",
            "7\n",
            "8\n",
            "9\n",
            "10\n",
            "11\n",
            "12\n",
            "13\n",
            "14\n",
            "15\n",
            "16\n",
            "17\n",
            "18\n",
            "19\n",
            "20\n",
            "21\n",
            "22\n",
            "23\n",
            "24\n",
            "25\n",
            "26\n",
            "27\n",
            "28\n",
            "29\n",
            "30\n",
            "31\n",
            "32\n",
            "33\n",
            "34\n",
            "35\n",
            "36\n",
            "37\n",
            "38\n",
            "39\n",
            "40\n",
            "41\n",
            "42\n",
            "43\n",
            "44\n",
            "45\n",
            "46\n",
            "47\n",
            "48\n",
            "49\n",
            "50\n",
            "51\n",
            "52\n",
            "53\n",
            "54\n",
            "55\n",
            "56\n",
            "57\n",
            "58\n",
            "59\n",
            "60\n",
            "61\n",
            "62\n",
            "63\n",
            "64\n",
            "65\n",
            "66\n",
            "67\n",
            "68\n",
            "69\n",
            "70\n",
            "71\n",
            "72\n",
            "73\n",
            "74\n",
            "75\n",
            "76\n",
            "77\n",
            "78\n",
            "79\n",
            "80\n",
            "81\n",
            "82\n",
            "83\n",
            "84\n",
            "85\n",
            "86\n",
            "87\n",
            "88\n",
            "89\n",
            "90\n",
            "91\n",
            "92\n",
            "93\n",
            "94\n",
            "95\n",
            "96\n",
            "97\n",
            "98\n",
            "99\n",
            "100\n",
            "[0.99523415 0.99486951 0.99468188 0.99477212 0.99475375 0.99506447\n",
            " 0.99507321 0.99493295 0.9951844  0.99479846 0.99475659 0.99460071\n",
            " 0.99517216 0.99514787 0.99465661 0.99498995 0.9950659  0.99538777\n",
            " 0.99523612 0.99493695 0.99513546 0.99471065 0.99477226 0.99506864\n",
            " 0.99484177 0.99543545 0.99505407 0.99545221 0.99535935 0.9950184\n",
            " 0.99512535 0.99506024 0.99462762 0.99488025 0.99497738 0.99478005\n",
            " 0.99491377 0.99521504 0.99467764 0.99499525 0.99458584 0.99491182\n",
            " 0.99504884 0.99483996 0.99491993 0.99521425 0.99484786 0.99516244\n",
            " 0.99532334 0.99464639 0.9950106  0.99509521 0.99493451 0.99520304\n",
            " 0.9947683  0.99499825 0.99473763 0.99524692 0.99503269 0.99491835\n",
            " 0.99459661 0.99486546 0.99474096 0.994955   0.99552852 0.995085\n",
            " 0.99470476 0.99514784 0.99491122 0.99505216 0.99510621 0.99531784\n",
            " 0.99485491 0.99523308 0.99530654 0.99527078 0.99481475 0.99538522\n",
            " 0.99520597 0.99462866 0.99463396 0.99523419 0.99508409 0.99545169\n",
            " 0.99525834 0.99535053 0.99490697 0.9950314  0.99554934 0.99502283\n",
            " 0.99506528 0.99539431 0.9950475  0.99505026 0.99493696 0.99488662\n",
            " 0.99465492 0.99508824 0.99496451 0.99461475] [0.9895163  0.98809691 0.98820957 0.98867871 0.98933648 0.98926566\n",
            " 0.98873203 0.98922301 0.9878001  0.98986546 0.98872134 0.98897422\n",
            " 0.98907087 0.98849848 0.98879188 0.9893855  0.98917415 0.98816882\n",
            " 0.98790435 0.9890222  0.98886191 0.98885255 0.98851951 0.98976402\n",
            " 0.98888445 0.9879381  0.98911832 0.98975264 0.98892724 0.98850251\n",
            " 0.98964379 0.98922293 0.98839591 0.99000427 0.98903253 0.98808106\n",
            " 0.98875275 0.98863846 0.98849097 0.98906739 0.98806903 0.99018022\n",
            " 0.98940598 0.98846068 0.98890313 0.98828724 0.98836774 0.98906385\n",
            " 0.98899385 0.98859467 0.98900181 0.98935845 0.98909805 0.98727336\n",
            " 0.9883416  0.98988744 0.98925056 0.98834676 0.98812621 0.98810404\n",
            " 0.98929864 0.9886506  0.98869176 0.98850304 0.98821054 0.98947634\n",
            " 0.98828203 0.9889338  0.98918017 0.98913339 0.9881848  0.98982751\n",
            " 0.9894562  0.98880096 0.98866589 0.9894809  0.98873492 0.98934501\n",
            " 0.98882878 0.98839093 0.98841439 0.98799692 0.98857224 0.98851686\n",
            " 0.98881237 0.98895782 0.98935596 0.98841442 0.98954456 0.98896787\n",
            " 0.98895143 0.9893606  0.98899629 0.98879034 0.98887534 0.98907953\n",
            " 0.98806628 0.98813255 0.98910762 0.98911299] [0.50077547 0.50071638 0.50043376 0.50066252 0.50122156 0.50073893\n",
            " 0.50068298 0.50058055 0.50101941 0.50119159 0.50060384 0.50087909\n",
            " 0.50113299 0.50019231 0.5014445  0.50111906 0.50111417 0.50047851\n",
            " 0.500972   0.50100272 0.500997   0.50109407 0.50081606 0.50104852\n",
            " 0.50094698 0.50048745 0.50101902 0.50122025 0.50092974 0.50073527\n",
            " 0.50131282 0.50130601 0.50122927 0.50093628 0.50082855 0.50140401\n",
            " 0.5007548  0.50087507 0.50063795 0.50151195 0.50067351 0.50119681\n",
            " 0.50061518 0.50049298 0.50180773 0.50050264 0.50010832 0.50103035\n",
            " 0.50075973 0.5009762  0.50091137 0.5009442  0.5013085  0.5010086\n",
            " 0.50111549 0.50147915 0.50122451 0.50023454 0.50117706 0.50105829\n",
            " 0.50096226 0.50098158 0.50100819 0.50059758 0.50111262 0.50035448\n",
            " 0.50110348 0.50126985 0.5016116  0.50138518 0.50057526 0.50095354\n",
            " 0.50064714 0.50075023 0.50067685 0.50102154 0.50105263 0.50022749\n",
            " 0.50139361 0.50086948 0.50164192 0.50101018 0.50118148 0.50095573\n",
            " 0.5011098  0.50086008 0.50114411 0.50118616 0.50039402 0.50052125\n",
            " 0.50066406 0.50109867 0.50046166 0.50081771 0.50083464 0.50065752\n",
            " 0.50078495 0.5011967  0.50057766 0.50087912]\n",
            "0.0 0.0 0.0\n"
          ]
        }
      ]
    },
    {
      "cell_type": "code",
      "source": [
        "import numpy as np\n",
        "\n",
        "# Sample data (replace this with your actual list)\n",
        "data = H_1  # Replace with your actual list of values\n",
        "\n",
        "# Compute sample mean and variance\n",
        "sample_mean = np.mean(data)\n",
        "sample_variance = np.var(data, ddof=1)  # Unbiased estimator with ddof=1\n",
        "\n",
        "# Estimate Gamma parameters\n",
        "shape = sample_mean**2 / sample_variance  # α\n",
        "scale = sample_variance / sample_mean  # θ\n",
        "rate = 1 / scale  # β (alternative parameterization)\n",
        "\n",
        "# Print results\n",
        "print(f\"Estimated Shape (α): {shape}\")\n",
        "print(f\"Estimated Scale (θ): {scale}\")\n",
        "print(f\"Estimated Rate (β): {rate}\")\n"
      ],
      "metadata": {
        "colab": {
          "base_uri": "https://localhost:8080/"
        },
        "id": "nFsrtOMCPG_Y",
        "outputId": "b713b232-ad95-4d73-ee06-979ee7e12880"
      },
      "execution_count": 95,
      "outputs": [
        {
          "output_type": "stream",
          "name": "stdout",
          "text": [
            "Estimated Shape (α): 18.1237703917837\n",
            "Estimated Scale (θ): 0.11761493839627266\n",
            "Estimated Rate (β): 8.502321334648517\n"
          ]
        }
      ]
    },
    {
      "cell_type": "code",
      "source": [
        "import numpy as np\n",
        "\n",
        "def estimate_beta_params(data):\n",
        "    \"\"\" Estimate α, β, loc, and scale for a Beta distribution from sample data. \"\"\"\n",
        "\n",
        "    # Estimate loc and scale\n",
        "    loc = np.min(data)\n",
        "    scale = np.max(data) - loc  # Range of data\n",
        "\n",
        "    # Normalize data to [0,1] for Beta estimation\n",
        "    scaled_data = (data - loc) / scale\n",
        "\n",
        "    # Compute sample mean and variance\n",
        "    sample_mean = np.mean(scaled_data)\n",
        "    sample_variance = np.var(scaled_data, ddof=1)  # Unbiased variance\n",
        "\n",
        "    # Estimate α and β\n",
        "    alpha = sample_mean * ((sample_mean * (1 - sample_mean)) / sample_variance - 1)\n",
        "    beta = (1 - sample_mean) * ((sample_mean * (1 - sample_mean)) / sample_variance - 1)\n",
        "\n",
        "    return alpha, beta, loc, scale\n",
        "\n",
        "# Example usage\n",
        "data = I_2  # Replace with your actual list\n",
        "alpha, beta, loc, scale = estimate_beta_params(data)\n",
        "\n",
        "# Print results\n",
        "print(f\"Estimated Shape α: {alpha}\")\n",
        "print(f\"Estimated Shape β: {beta}\")\n",
        "print(f\"Estimated loc: {loc}\")\n",
        "print(f\"Estimated scale: {scale}\")\n"
      ],
      "metadata": {
        "colab": {
          "base_uri": "https://localhost:8080/"
        },
        "id": "6-dVcqMiPxSw",
        "outputId": "71bbc29e-aacc-416c-f906-5de0af2dc162"
      },
      "execution_count": 96,
      "outputs": [
        {
          "output_type": "stream",
          "name": "stdout",
          "text": [
            "Estimated Shape α: 1.3124389475120086\n",
            "Estimated Shape β: 1.9327040952353134\n",
            "Estimated loc: 0.4013480051984204\n",
            "Estimated scale: 13.823132000806233\n"
          ]
        }
      ]
    },
    {
      "cell_type": "code",
      "source": [
        "J_3_1 = np.array(J_3[J_3 < 5])\n",
        "J_3_2 = np.array(J_3[J_3 > 5])\n",
        "print(len(J_3_1),len(J_3_2))\n",
        "print(J_3_1.mean(),J_3_2.mean())\n",
        "print(J_3_1.std(),J_3_2.std())"
      ],
      "metadata": {
        "colab": {
          "base_uri": "https://localhost:8080/"
        },
        "id": "V2X2mfngQY3C",
        "outputId": "b9a9e318-52d5-4fce-b83e-cea39bed4469"
      },
      "execution_count": 97,
      "outputs": [
        {
          "output_type": "stream",
          "name": "stdout",
          "text": [
            "801 199\n",
            "2.0366605388984267 7.000477926734161\n",
            "0.593857669210238 0.20564302300022308\n"
          ]
        }
      ]
    },
    {
      "cell_type": "code",
      "source": [
        "# Given parameters\n",
        "shape_gamma, scale_gamma = 18.1237703917837, 0.11761493839627266  # Gamma parameters\n",
        "alpha_beta, beta_beta, loc_beta, scale_beta = 1.3124389475120086, 1.9327040952353134, 0.4013480051984204, 13.823132000806233  # Beta parameters\n",
        "mu1, var1, mu2, var2 = 7.000477926734161, 0.20564302300022308, 2.0366605388984267, 0.593857669210238\n",
        "# Coefficients\n",
        "c1 = 12000 / (3 * 7 * 24 * 60 * 0.85)\n",
        "c2 = 5000 / (4 * 7 * 24 * 60 * 0.75)\n",
        "c3 = 1000 / (7 * 24 * 60 * 0.60)\n",
        "\n",
        "mean_1, mean_2, mean_3 = [], [], []\n",
        "counter = 0\n",
        "\n",
        "for i in range(100):\n",
        "  # Monte Carlo Simulation: Generate 1,000,000 samples\n",
        "  counter += 1\n",
        "  num_samples = 1_000_000\n",
        "\n",
        "  X1_samples = np.random.gamma(shape_gamma, scale_gamma, num_samples)\n",
        "  X1_mean = X1_samples.mean()\n",
        "  mean_1.append(X1_mean)\n",
        "\n",
        "  X2_samples = np.random.beta(alpha_beta, beta_beta, num_samples) * scale_beta + loc_beta\n",
        "  X2_mean = X2_samples.mean()\n",
        "  mean_2.append(X2_mean)\n",
        "\n",
        "  component_choice = np.random.choice([0, 1], size=num_samples, p=[0.2, 0.8])\n",
        "  mu_array = np.array([mu1, mu2])  # Convert means to a NumPy array\n",
        "  sigma_array = np.sqrt(np.array([var1, var2]))  # Convert variances to a NumPy array\n",
        "\n",
        "  X3_samples = np.random.normal(loc=mu_array[component_choice], scale=sigma_array[component_choice])\n",
        "  X3_mean = X3_samples.mean()\n",
        "  mean_3.append(X3_mean)\n",
        "\n",
        "  print(counter)\n",
        "\n",
        "# Compute S\n",
        "r_1 = c1 * np.array(mean_1)\n",
        "r_2 = c2 *  np.array(mean_2)\n",
        "r_3 = c3 *  np.array(mean_3)\n",
        "\n",
        "# Estimate probability\n",
        "prob_r1_greater_1 = np.mean(r_1 > 1)\n",
        "prob_r2_greater_1 = np.mean(r_2 > 1)\n",
        "prob_r3_greater_1 = np.mean(r_3 > 1)\n",
        "\n",
        "print(r_1,r_2,r_3)\n",
        "print(prob_r1_greater_1,prob_r2_greater_1,prob_r3_greater_1)\n",
        "\n"
      ],
      "metadata": {
        "colab": {
          "base_uri": "https://localhost:8080/"
        },
        "collapsed": true,
        "id": "JmmfRVo2PPoB",
        "outputId": "4e6bb463-7f46-4e7e-c107-7fda7fb32546"
      },
      "execution_count": 107,
      "outputs": [
        {
          "output_type": "stream",
          "name": "stdout",
          "text": [
            "1\n",
            "2\n",
            "3\n",
            "4\n",
            "5\n",
            "6\n",
            "7\n",
            "8\n",
            "9\n",
            "10\n",
            "11\n",
            "12\n",
            "13\n",
            "14\n",
            "15\n",
            "16\n",
            "17\n",
            "18\n",
            "19\n",
            "20\n",
            "21\n",
            "22\n",
            "23\n",
            "24\n",
            "25\n",
            "26\n",
            "27\n",
            "28\n",
            "29\n",
            "30\n",
            "31\n",
            "32\n",
            "33\n",
            "34\n",
            "35\n",
            "36\n",
            "37\n",
            "38\n",
            "39\n",
            "40\n",
            "41\n",
            "42\n",
            "43\n",
            "44\n",
            "45\n",
            "46\n",
            "47\n",
            "48\n",
            "49\n",
            "50\n",
            "51\n",
            "52\n",
            "53\n",
            "54\n",
            "55\n",
            "56\n",
            "57\n",
            "58\n",
            "59\n",
            "60\n",
            "61\n",
            "62\n",
            "63\n",
            "64\n",
            "65\n",
            "66\n",
            "67\n",
            "68\n",
            "69\n",
            "70\n",
            "71\n",
            "72\n",
            "73\n",
            "74\n",
            "75\n",
            "76\n",
            "77\n",
            "78\n",
            "79\n",
            "80\n",
            "81\n",
            "82\n",
            "83\n",
            "84\n",
            "85\n",
            "86\n",
            "87\n",
            "88\n",
            "89\n",
            "90\n",
            "91\n",
            "92\n",
            "93\n",
            "94\n",
            "95\n",
            "96\n",
            "97\n",
            "98\n",
            "99\n",
            "100\n",
            "[0.99516688 0.99538145 0.99514122 0.99548779 0.99480086 0.99504218\n",
            " 0.9950655  0.99536083 0.99524755 0.99509805 0.99534032 0.99544589\n",
            " 0.99518949 0.99528769 0.99552606 0.9953373  0.9951698  0.99534948\n",
            " 0.99543777 0.99520296 0.99540395 0.99468195 0.99519894 0.99511411\n",
            " 0.99510891 0.99465421 0.99549637 0.99494727 0.99512007 0.99550635\n",
            " 0.99497445 0.99503094 0.99460813 0.99519849 0.99487259 0.99473951\n",
            " 0.99486054 0.99551426 0.99521591 0.99512608 0.99499834 0.99506957\n",
            " 0.99544034 0.9954759  0.99564238 0.99479796 0.99543975 0.99573684\n",
            " 0.99498018 0.99542021 0.99520597 0.99482864 0.99532721 0.99520224\n",
            " 0.99547749 0.9953688  0.99552209 0.99500723 0.99489936 0.99516237\n",
            " 0.99489351 0.99488689 0.99515594 0.99519572 0.99482902 0.9951414\n",
            " 0.99552164 0.99504037 0.99507089 0.99524021 0.99504489 0.99532467\n",
            " 0.99483659 0.9951651  0.99525923 0.99544816 0.9953711  0.99529727\n",
            " 0.99527524 0.99470354 0.99505315 0.99468226 0.99500846 0.99515916\n",
            " 0.99501574 0.99467538 0.99496616 0.99579436 0.9949774  0.99531707\n",
            " 0.99497118 0.99528127 0.99525599 0.99523583 0.99477146 0.99544448\n",
            " 0.99509337 0.99485635 0.99507826 0.99462625] [0.99048274 0.99183922 0.99158735 0.99123958 0.9912746  0.99068589\n",
            " 0.99040435 0.99127853 0.99101236 0.99061046 0.99086808 0.99089114\n",
            " 0.99016921 0.99116028 0.98951665 0.99086508 0.99083329 0.99136393\n",
            " 0.99182719 0.99049156 0.99035083 0.99069831 0.99074833 0.99095999\n",
            " 0.99028469 0.99065985 0.99101142 0.99102985 0.99122011 0.99077534\n",
            " 0.99074774 0.99071076 0.99131836 0.99114972 0.991013   0.99012445\n",
            " 0.99046125 0.99030238 0.99032001 0.98964447 0.99021616 0.9899059\n",
            " 0.99040203 0.99121292 0.99050526 0.99016388 0.99062753 0.98983685\n",
            " 0.99040316 0.99028627 0.99093319 0.9902476  0.99022594 0.99095167\n",
            " 0.99069156 0.99048775 0.99027901 0.99067615 0.99071586 0.99005963\n",
            " 0.99133752 0.991571   0.99071383 0.99157091 0.99116543 0.99172425\n",
            " 0.99010136 0.99081675 0.9902859  0.99041145 0.99054164 0.99046359\n",
            " 0.99086477 0.99105783 0.99122753 0.98999286 0.99026754 0.99034336\n",
            " 0.99064493 0.99090494 0.99043155 0.99105022 0.98992925 0.99133505\n",
            " 0.99090833 0.99213215 0.98998218 0.99075649 0.99116962 0.99097088\n",
            " 0.99123134 0.99091145 0.99107095 0.99112867 0.99072381 0.99153546\n",
            " 0.99073919 0.99122832 0.99035435 0.99108266] [0.50066948 0.50018402 0.50151368 0.50098429 0.50089091 0.50110655\n",
            " 0.50130215 0.50025033 0.5007894  0.50136746 0.50093816 0.50040887\n",
            " 0.50109201 0.50047377 0.50108491 0.50140927 0.50083764 0.50103721\n",
            " 0.50098408 0.50097222 0.50084183 0.50110122 0.50078809 0.50115106\n",
            " 0.5010661  0.50079078 0.50136054 0.50136376 0.50145134 0.5015012\n",
            " 0.5009644  0.50059994 0.50056047 0.50119603 0.50114162 0.50086795\n",
            " 0.5019331  0.50129467 0.50118185 0.50106626 0.5012732  0.49995222\n",
            " 0.50169118 0.50119913 0.50075051 0.50151347 0.50076318 0.50059153\n",
            " 0.5016247  0.50131794 0.50045757 0.50102898 0.50071442 0.50112184\n",
            " 0.50082026 0.50091587 0.50095723 0.50117416 0.50056978 0.50129809\n",
            " 0.50103837 0.50070986 0.5015107  0.50137648 0.50069306 0.50076498\n",
            " 0.50064479 0.5004108  0.50080446 0.50120239 0.5011863  0.50017794\n",
            " 0.50097682 0.50122235 0.5001598  0.50109737 0.5006175  0.50073925\n",
            " 0.50085086 0.50145697 0.50094231 0.5003347  0.50117504 0.50056848\n",
            " 0.50044405 0.50087433 0.50101208 0.50119361 0.50093888 0.50103274\n",
            " 0.50056989 0.50124017 0.5013574  0.50129956 0.50119932 0.50122693\n",
            " 0.50154883 0.50077531 0.50045653 0.50095114]\n",
            "0.0 0.0 0.0\n"
          ]
        }
      ]
    },
    {
      "cell_type": "markdown",
      "source": [
        "### Model 1"
      ],
      "metadata": {
        "id": "AyIJ3l1VjnlR"
      }
    },
    {
      "cell_type": "code",
      "source": [
        "import numpy as np\n",
        "\n",
        "#1.645, 1.96, 2.575\n",
        "confidence_percent = 1.645\n",
        "\n",
        "# Given parameters\n",
        "shape_gamma, scale_gamma = 16.5992, 0.1284  # Gamma parameters\n",
        "alpha_beta, beta_beta, loc_beta, scale_beta = 1.3117, 1.9773, 0.3871, 14.0232  # Beta parameters\n",
        "mu1, var1, mu2, var2, weight = 7.0005, 0.0423, 2.0367, 0.3527, 0.5  # GMM parameters\n",
        "\n",
        "# Coefficients\n",
        "c1 = 12000 / (3 * 7 * 24 * 60 * 0.85)\n",
        "c2 = 5000 / (4 * 7 * 24 * 60 * 0.75)\n",
        "c3 = 1000 / (7 * 24 * 60 * 0.60)\n",
        "\n",
        "num_simulations = 100\n",
        "num_samples = 1_000_000  # Monte Carlo samples\n",
        "\n",
        "mean_1, mean_2, mean_3 = [], [], []\n",
        "std_1, std_2, std_3 = [], [], []\n",
        "CI_low_1, CI_low_2, CI_low_3 = [], [], []\n",
        "CI_upp_1, CI_upp_2, CI_upp_3 = [], [], []\n",
        "counter = 0\n",
        "\n",
        "for _ in range(num_simulations):\n",
        "    counter += 1\n",
        "\n",
        "    # Generate samples\n",
        "    X1_samples = np.random.gamma(shape_gamma, scale_gamma, num_samples)\n",
        "    X1_mean = X1_samples.mean()\n",
        "    X1_std = X1_samples.std()\n",
        "    mean_1.append(X1_mean)\n",
        "    std_1.append(X1_std)\n",
        "    X1_margin_of_error = confidence_percent * (X1_std / np.sqrt(num_samples))\n",
        "    ci_lower_1 = X1_mean - X1_margin_of_error\n",
        "    ci_upper_1 = X1_mean + X1_margin_of_error\n",
        "    CI_low_1.append(ci_lower_1)\n",
        "    CI_upp_1.append(ci_upper_1)\n",
        "\n",
        "\n",
        "    X2_samples = np.random.beta(alpha_beta, beta_beta, num_samples) * scale_beta + loc_beta\n",
        "    X2_mean = X2_samples.mean()\n",
        "    X2_std = X2_samples.std()\n",
        "    mean_2.append(X2_mean)\n",
        "    std_2.append(X2_std)\n",
        "    X2_margin_of_error = confidence_percent * (X2_std / np.sqrt(num_samples))\n",
        "    ci_lower_2 = X2_mean - X2_margin_of_error\n",
        "    ci_upper_2 = X2_mean + X2_margin_of_error\n",
        "    CI_low_2.append(ci_lower_2)\n",
        "    CI_upp_2.append(ci_upper_2)\n",
        "\n",
        "\n",
        "    component_choice = np.random.choice([0, 1], size=num_samples, p=[0.2, 0.8])\n",
        "    mu_array = np.array([mu1, mu2])\n",
        "    sigma_array = np.sqrt(np.array([var1, var2]))\n",
        "    X3_samples = np.random.normal(loc=mu_array[component_choice], scale=sigma_array[component_choice])\n",
        "    X3_mean = X3_samples.mean()\n",
        "    X3_std = X3_samples.std()\n",
        "    mean_3.append(X3_mean)\n",
        "    std_3.append(X3_std)\n",
        "    X3_margin_of_error = confidence_percent * (X3_std / np.sqrt(num_samples))\n",
        "    ci_lower_3 = X3_mean - X3_margin_of_error\n",
        "    ci_upper_3 = X3_mean + X3_margin_of_error\n",
        "    CI_low_3.append(ci_lower_3)\n",
        "    CI_upp_3.append(ci_upper_3)\n",
        "    print(counter)\n",
        "\n",
        "# Compute S\n",
        "r_1 = c1 * np.array(mean_1)\n",
        "r_2 = c2 * np.array(mean_2)\n",
        "r_3 = c3 * np.array(mean_3)\n",
        "print(r_1)\n",
        "print(r_2)\n",
        "print(r_3)\n",
        "\n",
        "# Probability estimation\n",
        "prob_r1_greater_1 = np.mean(r_1 > 1)\n",
        "prob_r2_greater_1 = np.mean(r_2 > 1)\n",
        "prob_r3_greater_1 = np.mean(r_3 > 1)\n",
        "print(prob_r1_greater_1, prob_r2_greater_1, prob_r3_greater_1)\n",
        "print(\"---------------\")\n",
        "\n",
        "\n",
        "# Compute S\n",
        "r_1 = c1 * np.array(CI_low_1)\n",
        "r_2 = c2 * np.array(CI_low_2)\n",
        "r_3 = c3 * np.array(CI_low_3)\n",
        "print(r_1)\n",
        "print(r_2)\n",
        "print(r_3)\n",
        "\n",
        "# Probability estimation\n",
        "prob_r1_greater_1 = np.mean(r_1 > 1)\n",
        "prob_r2_greater_1 = np.mean(r_2 > 1)\n",
        "prob_r3_greater_1 = np.mean(r_3 > 1)\n",
        "print(prob_r1_greater_1, prob_r2_greater_1, prob_r3_greater_1)\n",
        "print(\"---------------\")\n",
        "\n",
        "\n",
        "# Compute S\n",
        "r_1 = c1 * np.array(CI_upp_1)\n",
        "r_2 = c2 * np.array(CI_upp_2)\n",
        "r_3 = c3 * np.array(CI_upp_3)\n",
        "print(r_1)\n",
        "print(r_2)\n",
        "print(r_3)\n",
        "\n",
        "# Probability estimation\n",
        "prob_r1_greater_1 = np.mean(r_1 > 1)\n",
        "prob_r2_greater_1 = np.mean(r_2 > 1)\n",
        "prob_r3_greater_1 = np.mean(r_3 > 1)\n",
        "print(prob_r1_greater_1, prob_r2_greater_1, prob_r3_greater_1)\n"
      ],
      "metadata": {
        "colab": {
          "base_uri": "https://localhost:8080/"
        },
        "collapsed": true,
        "id": "95Mt-t4QdgRL",
        "outputId": "03ca118b-a727-4d49-d711-15bd0aa1d62d"
      },
      "execution_count": 28,
      "outputs": [
        {
          "output_type": "stream",
          "name": "stdout",
          "text": [
            "1\n",
            "2\n",
            "3\n",
            "4\n",
            "5\n",
            "6\n",
            "7\n",
            "8\n",
            "9\n",
            "10\n",
            "11\n",
            "12\n",
            "13\n",
            "14\n",
            "15\n",
            "16\n",
            "17\n",
            "18\n",
            "19\n",
            "20\n",
            "21\n",
            "22\n",
            "23\n",
            "24\n",
            "25\n",
            "26\n",
            "27\n",
            "28\n",
            "29\n",
            "30\n",
            "31\n",
            "32\n",
            "33\n",
            "34\n",
            "35\n",
            "36\n",
            "37\n",
            "38\n",
            "39\n",
            "40\n",
            "41\n",
            "42\n",
            "43\n",
            "44\n",
            "45\n",
            "46\n",
            "47\n",
            "48\n",
            "49\n",
            "50\n",
            "51\n",
            "52\n",
            "53\n",
            "54\n",
            "55\n",
            "56\n",
            "57\n",
            "58\n",
            "59\n",
            "60\n",
            "61\n",
            "62\n",
            "63\n",
            "64\n",
            "65\n",
            "66\n",
            "67\n",
            "68\n",
            "69\n",
            "70\n",
            "71\n",
            "72\n",
            "73\n",
            "74\n",
            "75\n",
            "76\n",
            "77\n",
            "78\n",
            "79\n",
            "80\n",
            "81\n",
            "82\n",
            "83\n",
            "84\n",
            "85\n",
            "86\n",
            "87\n",
            "88\n",
            "89\n",
            "90\n",
            "91\n",
            "92\n",
            "93\n",
            "94\n",
            "95\n",
            "96\n",
            "97\n",
            "98\n",
            "99\n",
            "100\n",
            "[0.99526717 0.99423581 0.99495603 0.9948954  0.99495273 0.99501309\n",
            " 0.99475768 0.99501965 0.99465671 0.99508448 0.99524051 0.99469629\n",
            " 0.99550301 0.99454787 0.99497845 0.99529029 0.99515886 0.99467487\n",
            " 0.99552393 0.99469502 0.99505704 0.99497243 0.99496836 0.99475946\n",
            " 0.9949097  0.99462342 0.99492729 0.99482076 0.9944169  0.99459321\n",
            " 0.99457666 0.99476401 0.99533057 0.99501016 0.99461142 0.99510099\n",
            " 0.99467739 0.99492018 0.9946427  0.99540737 0.9948336  0.99500957\n",
            " 0.99472201 0.99497701 0.99488019 0.99469742 0.99531401 0.99509335\n",
            " 0.99540806 0.99490254 0.99524978 0.99501608 0.99466691 0.99512446\n",
            " 0.99492045 0.99553306 0.99490136 0.99489947 0.99502897 0.99519685\n",
            " 0.99462491 0.99498892 0.99492776 0.99511287 0.99506837 0.99494938\n",
            " 0.99499052 0.99432399 0.99421002 0.99487936 0.99482091 0.99481867\n",
            " 0.99495549 0.99491643 0.99501778 0.99514293 0.9951021  0.99480869\n",
            " 0.99494302 0.99502188 0.99517605 0.9952262  0.99488247 0.99550834\n",
            " 0.99513018 0.9953095  0.99498721 0.99525324 0.99556839 0.99484634\n",
            " 0.99487661 0.99490495 0.99488728 0.99472385 0.99492536 0.99506231\n",
            " 0.99512278 0.99501642 0.99528725 0.99471975]\n",
            "[0.98897606 0.9882681  0.98894197 0.98827631 0.98918262 0.98736138\n",
            " 0.98975581 0.98940775 0.9888162  0.98870737 0.9889432  0.9888106\n",
            " 0.98836505 0.98758386 0.98873018 0.9879465  0.98788917 0.98984857\n",
            " 0.9889252  0.98907915 0.9888608  0.98747804 0.98902997 0.98869823\n",
            " 0.98814012 0.9887372  0.98840707 0.98871735 0.98827311 0.9889822\n",
            " 0.98948697 0.98887568 0.98877696 0.9882744  0.98847243 0.98879269\n",
            " 0.98877109 0.98813942 0.98946997 0.98872108 0.98862725 0.98875573\n",
            " 0.98995468 0.98852966 0.98866604 0.98951398 0.98874593 0.98953714\n",
            " 0.98891208 0.98837901 0.98897102 0.98892556 0.9883895  0.98907199\n",
            " 0.98874914 0.9893393  0.98830909 0.98914618 0.988878   0.98817244\n",
            " 0.9883635  0.9893406  0.98850573 0.98903505 0.98875442 0.98860806\n",
            " 0.98762278 0.9886318  0.98866146 0.98737381 0.98933346 0.98885442\n",
            " 0.98912712 0.988833   0.98869901 0.9898875  0.989612   0.98839234\n",
            " 0.9893527  0.98849266 0.98854657 0.98820318 0.98894231 0.98828705\n",
            " 0.98819779 0.98854616 0.98971333 0.98907181 0.98820899 0.98863473\n",
            " 0.98847327 0.98881195 0.98828971 0.98887435 0.98857471 0.98935081\n",
            " 0.98765204 0.98913701 0.9896082  0.98792026]\n",
            "[0.50106276 0.50106336 0.50098903 0.50096845 0.50093609 0.50038171\n",
            " 0.50072065 0.50124903 0.50132659 0.50187964 0.50095911 0.50115188\n",
            " 0.50097811 0.50019334 0.50062149 0.50056456 0.50097968 0.50043549\n",
            " 0.50054755 0.50000782 0.50092508 0.50051176 0.50019491 0.50049832\n",
            " 0.50125085 0.50150284 0.50118683 0.50091606 0.5014952  0.50081836\n",
            " 0.50087126 0.50096387 0.50125348 0.5008564  0.50056898 0.50090675\n",
            " 0.500795   0.50095417 0.50158069 0.50132618 0.5005607  0.50048187\n",
            " 0.50075314 0.50126384 0.50083622 0.50130407 0.50055756 0.5014141\n",
            " 0.50096688 0.50117302 0.50062516 0.50111307 0.50120147 0.49990232\n",
            " 0.50112765 0.5015321  0.50099901 0.50087712 0.5009917  0.50180802\n",
            " 0.50119215 0.50070045 0.50062267 0.50090489 0.50058916 0.5006958\n",
            " 0.50056114 0.50125071 0.50068072 0.50063945 0.50075842 0.50085663\n",
            " 0.50117873 0.50086838 0.50101289 0.50086851 0.50153686 0.50107774\n",
            " 0.50148299 0.50104555 0.5003464  0.50114168 0.50103817 0.50082006\n",
            " 0.50080944 0.50020421 0.50077097 0.5007172  0.50050243 0.50090049\n",
            " 0.50028997 0.50117088 0.50015422 0.50087102 0.50111974 0.50156138\n",
            " 0.50110235 0.5014556  0.50029575 0.50105756]\n",
            "0.0 0.0 0.0\n",
            "---------------\n",
            "[0.9948649  0.99383443 0.99455482 0.99449364 0.99455109 0.99461149\n",
            " 0.99435614 0.99461827 0.99425511 0.99468248 0.99483823 0.99429468\n",
            " 0.9951009  0.99414646 0.99457678 0.99488829 0.99475683 0.99427329\n",
            " 0.99512183 0.99429314 0.99465556 0.99457108 0.99456643 0.99435779\n",
            " 0.99450773 0.99422185 0.99452538 0.99441961 0.99401524 0.99419141\n",
            " 0.99417544 0.9943625  0.99492841 0.99460802 0.99420962 0.99469924\n",
            " 0.99427598 0.99451875 0.99424168 0.99500554 0.994432   0.99460771\n",
            " 0.99431984 0.99457524 0.99447848 0.99429552 0.99491243 0.99469121\n",
            " 0.99500642 0.99450102 0.99484787 0.99461437 0.99426555 0.99472238\n",
            " 0.99451877 0.99513125 0.99449964 0.994498   0.99462727 0.99479508\n",
            " 0.99422281 0.99458723 0.99452632 0.99471093 0.99466646 0.9945476\n",
            " 0.99458848 0.99392203 0.99380873 0.9944779  0.99441917 0.99441697\n",
            " 0.99455383 0.99451416 0.99461616 0.99474133 0.99470006 0.99440672\n",
            " 0.99454118 0.9946204  0.99477446 0.99482417 0.9944806  0.9951065\n",
            " 0.99472829 0.99490768 0.99458563 0.99485107 0.9951667  0.99444469\n",
            " 0.99447462 0.99450336 0.99448564 0.99432223 0.99452368 0.9946604\n",
            " 0.99472116 0.99461426 0.99488561 0.99431835]\n",
            "[0.98807424 0.98736657 0.98804073 0.98737531 0.98828023 0.98646114\n",
            " 0.98885401 0.98850583 0.98791448 0.98780518 0.98804118 0.98790872\n",
            " 0.98746297 0.9866821  0.98782777 0.98704442 0.98698852 0.98894585\n",
            " 0.98802314 0.9881767  0.98795893 0.98657615 0.98812818 0.98779682\n",
            " 0.98723893 0.9878351  0.98750499 0.98781681 0.98737097 0.98808138\n",
            " 0.98858467 0.98797383 0.98787443 0.98737329 0.9875706  0.98789079\n",
            " 0.98786881 0.98723788 0.98856812 0.98781912 0.98772547 0.987854\n",
            " 0.98905272 0.98762829 0.98776434 0.98861199 0.98784397 0.98863544\n",
            " 0.9880104  0.98747784 0.98806958 0.98802363 0.9874875  0.98817024\n",
            " 0.98784686 0.9884369  0.9874068  0.98824398 0.98797672 0.9872706\n",
            " 0.98746193 0.98843899 0.98760392 0.98813329 0.98785229 0.98770729\n",
            " 0.9867214  0.98773086 0.98775981 0.98647262 0.98843189 0.98795332\n",
            " 0.98822487 0.98793103 0.98779736 0.98898474 0.98871026 0.98749048\n",
            " 0.98845041 0.98759103 0.98764451 0.9873012  0.98804081 0.98738518\n",
            " 0.98729538 0.98764482 0.98881141 0.98817047 0.98730738 0.98773285\n",
            " 0.98757105 0.98791071 0.98738875 0.98797236 0.98767315 0.98844959\n",
            " 0.98675068 0.98823566 0.98870564 0.98701842]\n",
            "[0.50050288 0.50050371 0.50042944 0.50040875 0.50037632 0.49982232\n",
            " 0.50016124 0.50068936 0.50076614 0.5013191  0.50039933 0.50059212\n",
            " 0.50041858 0.49963441 0.50006218 0.50000551 0.50042016 0.49987643\n",
            " 0.49998843 0.4994493  0.50036556 0.49995273 0.49963594 0.49993891\n",
            " 0.50069067 0.50094261 0.50062678 0.50035631 0.50093477 0.50025887\n",
            " 0.50031179 0.50040407 0.50069372 0.50029654 0.50000963 0.50034699\n",
            " 0.50023544 0.50039475 0.50102018 0.50076626 0.50000131 0.4999229\n",
            " 0.5001935  0.50070374 0.50027647 0.5007442  0.49999842 0.5008541\n",
            " 0.50040736 0.50061317 0.50006619 0.50055318 0.50064152 0.49934379\n",
            " 0.50056775 0.50097224 0.50043927 0.50031752 0.50043198 0.50124735\n",
            " 0.50063205 0.50014136 0.50006344 0.50034501 0.50003009 0.50013617\n",
            " 0.5000019  0.50069073 0.50012152 0.50008019 0.50019877 0.50029705\n",
            " 0.5006187  0.50030865 0.50045339 0.50030916 0.50097653 0.50051817\n",
            " 0.50092254 0.50048573 0.49978722 0.50058175 0.50047841 0.50026068\n",
            " 0.50025011 0.49964541 0.50021183 0.50015769 0.4999432  0.50034092\n",
            " 0.49973112 0.5006111  0.49959532 0.50031167 0.50055964 0.50100128\n",
            " 0.50054255 0.50089523 0.49973664 0.50049796]\n",
            "0.0 0.0 0.0\n",
            "---------------\n",
            "[0.99566944 0.99463719 0.99535724 0.99529716 0.99535437 0.9954147\n",
            " 0.99515921 0.99542103 0.99505832 0.99548647 0.99564278 0.99509791\n",
            " 0.99590511 0.99494928 0.99538012 0.99569228 0.99556089 0.99507645\n",
            " 0.99592603 0.99509691 0.99545853 0.99537378 0.99537029 0.99516113\n",
            " 0.99531167 0.99502498 0.99532921 0.99522191 0.99481856 0.994995\n",
            " 0.99497787 0.99516552 0.99573273 0.99541231 0.99501322 0.99550274\n",
            " 0.9950788  0.9953216  0.99504372 0.9958092  0.99523519 0.99541143\n",
            " 0.99512418 0.99537878 0.99528191 0.99509932 0.99571559 0.99549549\n",
            " 0.99580971 0.99530407 0.99565168 0.99541779 0.99506827 0.99552654\n",
            " 0.99532214 0.99593488 0.99530307 0.99530093 0.99543067 0.99559862\n",
            " 0.99502701 0.99539061 0.99532921 0.99551482 0.99547027 0.99535116\n",
            " 0.99539256 0.99472594 0.99461132 0.99528082 0.99522265 0.99522037\n",
            " 0.99535716 0.99531871 0.99541939 0.99554453 0.99550414 0.99521066\n",
            " 0.99534486 0.99542336 0.99557764 0.99562823 0.99528434 0.99591018\n",
            " 0.99553207 0.99571132 0.9953888  0.99565542 0.99597007 0.995248\n",
            " 0.9952786  0.99530655 0.99528892 0.99512548 0.99532703 0.99546422\n",
            " 0.9955244  0.99541857 0.99568889 0.99512115]\n",
            "[0.98987789 0.98916963 0.98984322 0.98917732 0.99008501 0.98826163\n",
            " 0.99065762 0.99030967 0.98971792 0.98960956 0.98984523 0.98971247\n",
            " 0.98926713 0.98848562 0.9896326  0.98884858 0.98878982 0.99075129\n",
            " 0.98982727 0.98998161 0.98976267 0.98837993 0.98993175 0.98959965\n",
            " 0.98904131 0.98963929 0.98930915 0.98961789 0.98917525 0.98988302\n",
            " 0.99038926 0.98977754 0.9896795  0.98917551 0.98937427 0.98969458\n",
            " 0.98967336 0.98904096 0.99037181 0.98962304 0.98952903 0.98965746\n",
            " 0.99085664 0.98943103 0.98956774 0.99041596 0.98964789 0.99043884\n",
            " 0.98981377 0.98928018 0.98987246 0.98982748 0.98929151 0.98997374\n",
            " 0.98965141 0.99024171 0.98921139 0.99004837 0.98977928 0.98907428\n",
            " 0.98926507 0.99024222 0.98940755 0.9899368  0.98965655 0.98950884\n",
            " 0.98852415 0.98953274 0.98956311 0.988275   0.99023504 0.98975553\n",
            " 0.99002937 0.98973498 0.98960066 0.99079026 0.99051375 0.98929419\n",
            " 0.99025499 0.98939428 0.98944863 0.98910515 0.98984382 0.98918892\n",
            " 0.98910021 0.98944749 0.99061524 0.98997315 0.98911061 0.98953662\n",
            " 0.98937549 0.98971319 0.98919066 0.98977634 0.98947626 0.99025202\n",
            " 0.98855341 0.99003835 0.99051077 0.98882211]\n",
            "[0.50162264 0.50162301 0.50154861 0.50152816 0.50149587 0.5009411\n",
            " 0.50128006 0.50180871 0.50188705 0.50244018 0.50151889 0.50171163\n",
            " 0.50153764 0.50075226 0.5011808  0.50112361 0.5015392  0.50099454\n",
            " 0.50110667 0.50056633 0.5014846  0.50107079 0.50075388 0.50105773\n",
            " 0.50181103 0.50206308 0.50174689 0.50147581 0.50205562 0.50137784\n",
            " 0.50143073 0.50152366 0.50181324 0.50141626 0.50112833 0.50146652\n",
            " 0.50135455 0.50151358 0.50214121 0.5018861  0.50112009 0.50104085\n",
            " 0.50131277 0.50182393 0.50139598 0.50186394 0.5011167  0.5019741\n",
            " 0.50152641 0.50173287 0.50118414 0.50167296 0.50176143 0.50046085\n",
            " 0.50168754 0.50209195 0.50155876 0.50143673 0.50155143 0.50236869\n",
            " 0.50175225 0.50125953 0.50118191 0.50146478 0.50114823 0.50125542\n",
            " 0.50112038 0.50181068 0.50123992 0.5011987  0.50131807 0.50141622\n",
            " 0.50173877 0.50142811 0.5015724  0.50142786 0.5020972  0.50163731\n",
            " 0.50204344 0.50160537 0.50090559 0.50170161 0.50159793 0.50137945\n",
            " 0.50136877 0.500763   0.50133011 0.50127672 0.50106166 0.50146007\n",
            " 0.50084883 0.50173067 0.50071312 0.50143036 0.50167984 0.50212149\n",
            " 0.50166215 0.50201597 0.50085485 0.50161715]\n",
            "0.0 0.0 0.0\n"
          ]
        }
      ]
    },
    {
      "cell_type": "markdown",
      "source": [
        "### Model 2"
      ],
      "metadata": {
        "id": "e3wN4X9sjrxq"
      }
    },
    {
      "cell_type": "code",
      "source": [
        "import numpy as np\n",
        "\n",
        "#1.645, 1.96, 2.575\n",
        "confidence_percent = 1.645\n",
        "\n",
        "# # Given parameters\n",
        "# shape_gamma, scale_gamma = 18.1, 0.1 # Gamma parameters\n",
        "# alpha_beta, beta_beta, loc_beta, scale_beta = 1.3, 1.9, 0.4, 13.8  # Beta parameters\n",
        "# mu1, var1, mu2, var2 = 7, 0.2, 2, 0.6\n",
        "\n",
        "# Given parameters\n",
        "shape_gamma, scale_gamma = 16, 0.133 # Gamma parameters\n",
        "alpha_beta, beta_beta, loc_beta, scale_beta = 1.295, 1.9, 0.5, 14  # Beta parameters\n",
        "mu1, var1, mu2, var2 = 7, 0.2, 2, 0.6\n",
        "\n",
        "# Coefficients\n",
        "c1 = 12000 / (3 * 7 * 24 * 60 * 0.85)\n",
        "c2 = 5000 / (4 * 7 * 24 * 60 * 0.75)\n",
        "c3 = 1000 / (7 * 24 * 60 * 0.60)\n",
        "\n",
        "num_simulations = 100\n",
        "num_samples = 1_000_000  # Monte Carlo samples\n",
        "\n",
        "mean_1, mean_2, mean_3 = [], [], []\n",
        "std_1, std_2, std_3 = [], [], []\n",
        "CI_low_1, CI_low_2, CI_low_3 = [], [], []\n",
        "CI_upp_1, CI_upp_2, CI_upp_3 = [], [], []\n",
        "counter = 0\n",
        "\n",
        "for _ in range(num_simulations):\n",
        "    counter += 1\n",
        "\n",
        "    # Generate samples\n",
        "    X1_samples = np.random.gamma(shape_gamma, scale_gamma, num_samples)\n",
        "    X1_mean = X1_samples.mean()\n",
        "    X1_std = X1_samples.std()\n",
        "    mean_1.append(X1_mean)\n",
        "    std_1.append(X1_std)\n",
        "    X1_margin_of_error = confidence_percent * (X1_std / np.sqrt(num_samples))\n",
        "    ci_lower_1 = X1_mean - X1_margin_of_error\n",
        "    ci_upper_1 = X1_mean + X1_margin_of_error\n",
        "    CI_low_1.append(ci_lower_1)\n",
        "    CI_upp_1.append(ci_upper_1)\n",
        "\n",
        "\n",
        "    X2_samples = np.random.beta(alpha_beta, beta_beta, num_samples) * scale_beta + loc_beta\n",
        "    X2_mean = X2_samples.mean()\n",
        "    X2_std = X2_samples.std()\n",
        "    mean_2.append(X2_mean)\n",
        "    std_2.append(X2_std)\n",
        "    X2_margin_of_error = confidence_percent * (X2_std / np.sqrt(num_samples))\n",
        "    ci_lower_2 = X2_mean - X2_margin_of_error\n",
        "    ci_upper_2 = X2_mean + X2_margin_of_error\n",
        "    CI_low_2.append(ci_lower_2)\n",
        "    CI_upp_2.append(ci_upper_2)\n",
        "\n",
        "\n",
        "    component_choice = np.random.choice([0, 1], size=num_samples, p=[0.2, 0.8])\n",
        "    mu_array = np.array([mu1, mu2])\n",
        "    sigma_array = np.sqrt(np.array([var1, var2]))\n",
        "    X3_samples = np.random.normal(loc=mu_array[component_choice], scale=sigma_array[component_choice])\n",
        "    X3_mean = X3_samples.mean()\n",
        "    X3_std = X3_samples.std()\n",
        "    mean_3.append(X3_mean)\n",
        "    std_3.append(X3_std)\n",
        "    X3_margin_of_error = confidence_percent * (X3_std / np.sqrt(num_samples))\n",
        "    ci_lower_3 = X3_mean - X3_margin_of_error\n",
        "    ci_upper_3 = X3_mean + X3_margin_of_error\n",
        "    CI_low_3.append(ci_lower_3)\n",
        "    CI_upp_3.append(ci_upper_3)\n",
        "    # print(counter)\n",
        "\n",
        "# Compute S\n",
        "r_1 = c1 * np.array(mean_1)\n",
        "r_2 = c2 * np.array(mean_2)\n",
        "r_3 = c3 * np.array(mean_3)\n",
        "print(mean_1[:3], r_1[:3])\n",
        "print(mean_2[:3], r_2[:3])\n",
        "print(mean_3[:3], r_3[:3])\n",
        "\n",
        "# Probability estimation\n",
        "prob_r1_greater_1 = np.mean(r_1 > 1)\n",
        "prob_r2_greater_1 = np.mean(r_2 > 1)\n",
        "prob_r3_greater_1 = np.mean(r_3 > 1)\n",
        "print(prob_r1_greater_1, prob_r2_greater_1, prob_r3_greater_1)\n",
        "print(\"---------------\")\n",
        "\n",
        "\n",
        "# Compute S\n",
        "r_1 = c1 * np.array(CI_low_1)\n",
        "r_2 = c2 * np.array(CI_low_2)\n",
        "r_3 = c3 * np.array(CI_low_3)\n",
        "# print(CI_low_1[:3], r_1[:3])\n",
        "# print(CI_low_2[:3], r_2[:3])\n",
        "# print(CI_low_3[:3], r_3[:3])\n",
        "\n",
        "# Probability estimation\n",
        "prob_r1_greater_1 = np.mean(r_1 > 1)\n",
        "prob_r2_greater_1 = np.mean(r_2 > 1)\n",
        "prob_r3_greater_1 = np.mean(r_3 > 1)\n",
        "print(prob_r1_greater_1, prob_r2_greater_1, prob_r3_greater_1)\n",
        "print(\"---------------\")\n",
        "\n",
        "\n",
        "# Compute S\n",
        "r_1 = c1 * np.array(CI_upp_1)\n",
        "r_2 = c2 * np.array(CI_upp_2)\n",
        "r_3 = c3 * np.array(CI_upp_3)\n",
        "print(CI_upp_1[:3], r_1[:3])\n",
        "print(CI_upp_2[:3], r_2[:3])\n",
        "print(CI_upp_3[:3], r_3[:3])\n",
        "\n",
        "# Probability estimation\n",
        "prob_r1_greater_1 = np.mean(r_1 > 1)\n",
        "prob_r2_greater_1 = np.mean(r_2 > 1)\n",
        "prob_r3_greater_1 = np.mean(r_3 > 1)\n",
        "print(prob_r1_greater_1, prob_r2_greater_1, prob_r3_greater_1)\n"
      ],
      "metadata": {
        "colab": {
          "base_uri": "https://localhost:8080/"
        },
        "id": "e9EVPOIfjthP",
        "outputId": "fd639707-5d68-4a96-a79e-6c872784968f"
      },
      "execution_count": 46,
      "outputs": [
        {
          "output_type": "stream",
          "name": "stdout",
          "text": [
            "[2.1285306427326924, 2.1276679750039884, 2.129049834976501] [0.99371178 0.99330905 0.99395417]\n",
            "[6.1728184691038175, 6.173633116167855, 6.171207376973733] [1.02063797 1.02077267 1.02037159]\n",
            "[3.001352597518136, 3.001179612024761, 3.0006597232851635] [0.49625539 0.49622679 0.49614083]\n",
            "0.0 1.0 0.0\n",
            "---------------\n",
            "0.0 1.0 0.0\n",
            "---------------\n",
            "[2.129406227814009, 2.1285426901509914, 2.129925233620009] [0.99412055 0.99371741 0.99436285]\n",
            "[6.178337991305303, 6.179150181610409, 6.1767299577004255] [1.02155059 1.02168488 1.02128472]\n",
            "[3.0048506609819845, 3.004675970100249, 3.004157590940875] [0.49683377 0.49680489 0.49671918]\n",
            "0.0 1.0 0.0\n"
          ]
        }
      ]
    },
    {
      "cell_type": "code",
      "source": [
        "[x for x in list(np.array(CI_upp_1) * 12000) if x > 25704.0]"
      ],
      "metadata": {
        "colab": {
          "base_uri": "https://localhost:8080/"
        },
        "id": "Yoac7DcPpmXm",
        "outputId": "0e3c1a90-4509-41a2-d37d-727180832100"
      },
      "execution_count": 51,
      "outputs": [
        {
          "output_type": "execute_result",
          "data": {
            "text/plain": [
              "[]"
            ]
          },
          "metadata": {},
          "execution_count": 51
        }
      ]
    },
    {
      "cell_type": "code",
      "source": [
        "(3 * 7 * 24 * 60 * 0.85)"
      ],
      "metadata": {
        "colab": {
          "base_uri": "https://localhost:8080/"
        },
        "id": "GRH0xd7VpkMh",
        "outputId": "c30b97f2-2acb-4c23-c480-d1e36ea950f6"
      },
      "execution_count": 49,
      "outputs": [
        {
          "output_type": "execute_result",
          "data": {
            "text/plain": [
              "25704.0"
            ]
          },
          "metadata": {},
          "execution_count": 49
        }
      ]
    },
    {
      "cell_type": "code",
      "source": [
        "H_1M = np.array(df['H_1']).mean()\n",
        "I_2M = np.array(df[\"I_2\"]).mean()\n",
        "J_3M = np.array(df[\"J_3\"]).mean()\n",
        "print(H_1M, I_2M, J_3M)"
      ],
      "metadata": {
        "colab": {
          "base_uri": "https://localhost:8080/"
        },
        "id": "_Himh0r1mXJU",
        "outputId": "705230c4-666a-41bc-a338-eaa0e0dd5b1c"
      },
      "execution_count": 43,
      "outputs": [
        {
          "output_type": "stream",
          "name": "stdout",
          "text": [
            "2.1316261381378303 5.99186175928513 3.0244601990777378\n"
          ]
        }
      ]
    },
    {
      "cell_type": "markdown",
      "source": [
        "## Part 6"
      ],
      "metadata": {
        "id": "G-U5CK1zcWxX"
      }
    },
    {
      "cell_type": "markdown",
      "source": [
        "## Part 7"
      ],
      "metadata": {
        "id": "t0FRB63tca91"
      }
    },
    {
      "cell_type": "markdown",
      "source": [
        "median is not the best and mean is better given that we can do risk analysis with various levels of confidence interval, moreover, we can account for different types of distributions"
      ],
      "metadata": {
        "id": "WREY7cIOqEac"
      }
    },
    {
      "cell_type": "code",
      "source": [],
      "metadata": {
        "id": "Cx5543pKcYkJ"
      },
      "execution_count": null,
      "outputs": []
    }
  ]
}